{
 "cells": [
  {
   "cell_type": "code",
   "execution_count": 35,
   "metadata": {},
   "outputs": [
    {
     "name": "stderr",
     "output_type": "stream",
     "text": [
      "[nltk_data] Downloading package stopwords to\n",
      "[nltk_data]     C:\\Users\\wnm\\AppData\\Roaming\\nltk_data...\n",
      "[nltk_data]   Package stopwords is already up-to-date!\n"
     ]
    },
    {
     "data": {
      "text/plain": [
       "True"
      ]
     },
     "execution_count": 35,
     "metadata": {},
     "output_type": "execute_result"
    }
   ],
   "source": [
    "import pandas as pd\n",
    "import numpy as np\n",
    "import re\n",
    "from nltk.corpus import stopwords\n",
    "import nltk\n",
    "nltk.download('stopwords')"
   ]
  },
  {
   "cell_type": "code",
   "execution_count": 36,
   "metadata": {},
   "outputs": [
    {
     "data": {
      "text/html": [
       "<div>\n",
       "<style scoped>\n",
       "    .dataframe tbody tr th:only-of-type {\n",
       "        vertical-align: middle;\n",
       "    }\n",
       "\n",
       "    .dataframe tbody tr th {\n",
       "        vertical-align: top;\n",
       "    }\n",
       "\n",
       "    .dataframe thead th {\n",
       "        text-align: right;\n",
       "    }\n",
       "</style>\n",
       "<table border=\"1\" class=\"dataframe\">\n",
       "  <thead>\n",
       "    <tr style=\"text-align: right;\">\n",
       "      <th></th>\n",
       "      <th>spam</th>\n",
       "      <th>message</th>\n",
       "      <th>Unnamed: 2</th>\n",
       "      <th>Unnamed: 3</th>\n",
       "      <th>Unnamed: 4</th>\n",
       "    </tr>\n",
       "  </thead>\n",
       "  <tbody>\n",
       "    <tr>\n",
       "      <th>3866</th>\n",
       "      <td>ham</td>\n",
       "      <td>Alright we're hooked up, where you guys at</td>\n",
       "      <td>NaN</td>\n",
       "      <td>NaN</td>\n",
       "      <td>NaN</td>\n",
       "    </tr>\n",
       "    <tr>\n",
       "      <th>427</th>\n",
       "      <td>ham</td>\n",
       "      <td>Any pain on urination any thing else?</td>\n",
       "      <td>NaN</td>\n",
       "      <td>NaN</td>\n",
       "      <td>NaN</td>\n",
       "    </tr>\n",
       "    <tr>\n",
       "      <th>2406</th>\n",
       "      <td>ham</td>\n",
       "      <td>One of best dialogue in cute reltnship..!! \\We...</td>\n",
       "      <td>Dont Come Near My Body..!! Bcoz My Hands May ...</td>\n",
       "      <td>NaN</td>\n",
       "      <td>NaN</td>\n",
       "    </tr>\n",
       "    <tr>\n",
       "      <th>5291</th>\n",
       "      <td>ham</td>\n",
       "      <td>Xy trying smth now. U eat already? We havent...</td>\n",
       "      <td>NaN</td>\n",
       "      <td>NaN</td>\n",
       "      <td>NaN</td>\n",
       "    </tr>\n",
       "    <tr>\n",
       "      <th>5009</th>\n",
       "      <td>ham</td>\n",
       "      <td>By the way, 'rencontre' is to meet again. Moun...</td>\n",
       "      <td>NaN</td>\n",
       "      <td>NaN</td>\n",
       "      <td>NaN</td>\n",
       "    </tr>\n",
       "  </tbody>\n",
       "</table>\n",
       "</div>"
      ],
      "text/plain": [
       "     spam                                            message  \\\n",
       "3866  ham         Alright we're hooked up, where you guys at   \n",
       "427   ham              Any pain on urination any thing else?   \n",
       "2406  ham  One of best dialogue in cute reltnship..!! \\We...   \n",
       "5291  ham    Xy trying smth now. U eat already? We havent...   \n",
       "5009  ham  By the way, 'rencontre' is to meet again. Moun...   \n",
       "\n",
       "                                             Unnamed: 2 Unnamed: 3 Unnamed: 4  \n",
       "3866                                                NaN        NaN        NaN  \n",
       "427                                                 NaN        NaN        NaN  \n",
       "2406   Dont Come Near My Body..!! Bcoz My Hands May ...        NaN        NaN  \n",
       "5291                                                NaN        NaN        NaN  \n",
       "5009                                                NaN        NaN        NaN  "
      ]
     },
     "execution_count": 36,
     "metadata": {},
     "output_type": "execute_result"
    }
   ],
   "source": [
    "df = pd.read_csv('./spam.csv')\n",
    "df.sample(5)"
   ]
  },
  {
   "cell_type": "code",
   "execution_count": 37,
   "metadata": {},
   "outputs": [],
   "source": [
    "df['spam'] = np.where(df['spam'] == 'spam', 1, 0)"
   ]
  },
  {
   "cell_type": "code",
   "execution_count": 38,
   "metadata": {},
   "outputs": [
    {
     "data": {
      "text/html": [
       "<div>\n",
       "<style scoped>\n",
       "    .dataframe tbody tr th:only-of-type {\n",
       "        vertical-align: middle;\n",
       "    }\n",
       "\n",
       "    .dataframe tbody tr th {\n",
       "        vertical-align: top;\n",
       "    }\n",
       "\n",
       "    .dataframe thead th {\n",
       "        text-align: right;\n",
       "    }\n",
       "</style>\n",
       "<table border=\"1\" class=\"dataframe\">\n",
       "  <thead>\n",
       "    <tr style=\"text-align: right;\">\n",
       "      <th></th>\n",
       "      <th>spam</th>\n",
       "      <th>message</th>\n",
       "      <th>Unnamed: 2</th>\n",
       "      <th>Unnamed: 3</th>\n",
       "      <th>Unnamed: 4</th>\n",
       "    </tr>\n",
       "  </thead>\n",
       "  <tbody>\n",
       "    <tr>\n",
       "      <th>5345</th>\n",
       "      <td>0</td>\n",
       "      <td>Wat М_ doing now?</td>\n",
       "      <td>NaN</td>\n",
       "      <td>NaN</td>\n",
       "      <td>NaN</td>\n",
       "    </tr>\n",
       "    <tr>\n",
       "      <th>1558</th>\n",
       "      <td>0</td>\n",
       "      <td>Message from . I am at Truro Hospital on ext. ...</td>\n",
       "      <td>NaN</td>\n",
       "      <td>NaN</td>\n",
       "      <td>NaN</td>\n",
       "    </tr>\n",
       "    <tr>\n",
       "      <th>4179</th>\n",
       "      <td>0</td>\n",
       "      <td>swhrt how u dey,hope ur ok, tot about u 2day.l...</td>\n",
       "      <td>NaN</td>\n",
       "      <td>NaN</td>\n",
       "      <td>NaN</td>\n",
       "    </tr>\n",
       "  </tbody>\n",
       "</table>\n",
       "</div>"
      ],
      "text/plain": [
       "      spam                                            message Unnamed: 2  \\\n",
       "5345     0                                  Wat М_ doing now?        NaN   \n",
       "1558     0  Message from . I am at Truro Hospital on ext. ...        NaN   \n",
       "4179     0  swhrt how u dey,hope ur ok, tot about u 2day.l...        NaN   \n",
       "\n",
       "     Unnamed: 3 Unnamed: 4  \n",
       "5345        NaN        NaN  \n",
       "1558        NaN        NaN  \n",
       "4179        NaN        NaN  "
      ]
     },
     "execution_count": 38,
     "metadata": {},
     "output_type": "execute_result"
    }
   ],
   "source": [
    "df.sample(3)"
   ]
  },
  {
   "cell_type": "code",
   "execution_count": 39,
   "metadata": {},
   "outputs": [],
   "source": [
    "df = df[['spam', 'message']]"
   ]
  },
  {
   "cell_type": "code",
   "execution_count": 40,
   "metadata": {},
   "outputs": [
    {
     "data": {
      "text/html": [
       "<div>\n",
       "<style scoped>\n",
       "    .dataframe tbody tr th:only-of-type {\n",
       "        vertical-align: middle;\n",
       "    }\n",
       "\n",
       "    .dataframe tbody tr th {\n",
       "        vertical-align: top;\n",
       "    }\n",
       "\n",
       "    .dataframe thead th {\n",
       "        text-align: right;\n",
       "    }\n",
       "</style>\n",
       "<table border=\"1\" class=\"dataframe\">\n",
       "  <thead>\n",
       "    <tr style=\"text-align: right;\">\n",
       "      <th></th>\n",
       "      <th>spam</th>\n",
       "      <th>message</th>\n",
       "    </tr>\n",
       "  </thead>\n",
       "  <tbody>\n",
       "    <tr>\n",
       "      <th>0</th>\n",
       "      <td>0</td>\n",
       "      <td>Go until jurong point, crazy.. Available only ...</td>\n",
       "    </tr>\n",
       "    <tr>\n",
       "      <th>1</th>\n",
       "      <td>0</td>\n",
       "      <td>Ok lar... Joking wif u oni...</td>\n",
       "    </tr>\n",
       "    <tr>\n",
       "      <th>2</th>\n",
       "      <td>1</td>\n",
       "      <td>Free entry in 2 a wkly comp to win FA Cup fina...</td>\n",
       "    </tr>\n",
       "    <tr>\n",
       "      <th>3</th>\n",
       "      <td>0</td>\n",
       "      <td>U dun say so early hor... U c already then say...</td>\n",
       "    </tr>\n",
       "    <tr>\n",
       "      <th>4</th>\n",
       "      <td>0</td>\n",
       "      <td>Nah I don't think he goes to usf, he lives aro...</td>\n",
       "    </tr>\n",
       "    <tr>\n",
       "      <th>...</th>\n",
       "      <td>...</td>\n",
       "      <td>...</td>\n",
       "    </tr>\n",
       "    <tr>\n",
       "      <th>5567</th>\n",
       "      <td>1</td>\n",
       "      <td>This is the 2nd time we have tried 2 contact u...</td>\n",
       "    </tr>\n",
       "    <tr>\n",
       "      <th>5568</th>\n",
       "      <td>0</td>\n",
       "      <td>Will М_ b going to esplanade fr home?</td>\n",
       "    </tr>\n",
       "    <tr>\n",
       "      <th>5569</th>\n",
       "      <td>0</td>\n",
       "      <td>Pity, * was in mood for that. So...any other s...</td>\n",
       "    </tr>\n",
       "    <tr>\n",
       "      <th>5570</th>\n",
       "      <td>0</td>\n",
       "      <td>The guy did some bitching but I acted like i'd...</td>\n",
       "    </tr>\n",
       "    <tr>\n",
       "      <th>5571</th>\n",
       "      <td>0</td>\n",
       "      <td>Rofl. Its true to its name</td>\n",
       "    </tr>\n",
       "  </tbody>\n",
       "</table>\n",
       "<p>5572 rows × 2 columns</p>\n",
       "</div>"
      ],
      "text/plain": [
       "      spam                                            message\n",
       "0        0  Go until jurong point, crazy.. Available only ...\n",
       "1        0                      Ok lar... Joking wif u oni...\n",
       "2        1  Free entry in 2 a wkly comp to win FA Cup fina...\n",
       "3        0  U dun say so early hor... U c already then say...\n",
       "4        0  Nah I don't think he goes to usf, he lives aro...\n",
       "...    ...                                                ...\n",
       "5567     1  This is the 2nd time we have tried 2 contact u...\n",
       "5568     0              Will М_ b going to esplanade fr home?\n",
       "5569     0  Pity, * was in mood for that. So...any other s...\n",
       "5570     0  The guy did some bitching but I acted like i'd...\n",
       "5571     0                         Rofl. Its true to its name\n",
       "\n",
       "[5572 rows x 2 columns]"
      ]
     },
     "execution_count": 40,
     "metadata": {},
     "output_type": "execute_result"
    }
   ],
   "source": [
    "df"
   ]
  },
  {
   "cell_type": "code",
   "execution_count": 41,
   "metadata": {},
   "outputs": [],
   "source": [
    "def clean_text(text: str):\n",
    "    text = text.lower()\n",
    "    # Удаление спец символов\n",
    "    text = re.sub(r'[^a-zA-Z0-9\\s]', '', text)\n",
    "    # Удаление множественных пробелов\n",
    "    text = re.sub(r'\\s+', ' ', text)\n",
    "    text = text.replace('\\n', '')\n",
    "    # Фильтрация стоп слов\n",
    "    stop_words = set(stopwords.words('english'))\n",
    "    filtered_sentence = [word for word in text.split(\" \") if not word in stop_words]\n",
    "    return ' '.join(filtered_sentence)\n",
    "    #return text"
   ]
  },
  {
   "cell_type": "code",
   "execution_count": 42,
   "metadata": {},
   "outputs": [
    {
     "data": {
      "text/plain": [
       "'Ok lar... Joking wif u oni...'"
      ]
     },
     "execution_count": 42,
     "metadata": {},
     "output_type": "execute_result"
    }
   ],
   "source": [
    "df['message'][1]"
   ]
  },
  {
   "cell_type": "code",
   "execution_count": 43,
   "metadata": {},
   "outputs": [
    {
     "data": {
      "text/plain": [
       "'ok lar joking wif u oni'"
      ]
     },
     "execution_count": 43,
     "metadata": {},
     "output_type": "execute_result"
    }
   ],
   "source": [
    "clean_text(df['message'][1])"
   ]
  },
  {
   "cell_type": "code",
   "execution_count": 44,
   "metadata": {},
   "outputs": [],
   "source": [
    "df['message'] = df['message'].apply(clean_text)"
   ]
  },
  {
   "cell_type": "code",
   "execution_count": 45,
   "metadata": {},
   "outputs": [
    {
     "data": {
      "text/html": [
       "<div>\n",
       "<style scoped>\n",
       "    .dataframe tbody tr th:only-of-type {\n",
       "        vertical-align: middle;\n",
       "    }\n",
       "\n",
       "    .dataframe tbody tr th {\n",
       "        vertical-align: top;\n",
       "    }\n",
       "\n",
       "    .dataframe thead th {\n",
       "        text-align: right;\n",
       "    }\n",
       "</style>\n",
       "<table border=\"1\" class=\"dataframe\">\n",
       "  <thead>\n",
       "    <tr style=\"text-align: right;\">\n",
       "      <th></th>\n",
       "      <th>spam</th>\n",
       "      <th>message</th>\n",
       "    </tr>\n",
       "  </thead>\n",
       "  <tbody>\n",
       "    <tr>\n",
       "      <th>5134</th>\n",
       "      <td>0</td>\n",
       "      <td>sday joinedso training started today</td>\n",
       "    </tr>\n",
       "    <tr>\n",
       "      <th>4334</th>\n",
       "      <td>0</td>\n",
       "      <td>u sound like manky scouse boy stevelike travel...</td>\n",
       "    </tr>\n",
       "    <tr>\n",
       "      <th>932</th>\n",
       "      <td>0</td>\n",
       "      <td>samus shoulders yet</td>\n",
       "    </tr>\n",
       "  </tbody>\n",
       "</table>\n",
       "</div>"
      ],
      "text/plain": [
       "      spam                                            message\n",
       "5134     0               sday joinedso training started today\n",
       "4334     0  u sound like manky scouse boy stevelike travel...\n",
       "932      0                                samus shoulders yet"
      ]
     },
     "execution_count": 45,
     "metadata": {},
     "output_type": "execute_result"
    }
   ],
   "source": [
    "df.sample(3)"
   ]
  },
  {
   "cell_type": "code",
   "execution_count": 46,
   "metadata": {},
   "outputs": [
    {
     "name": "stdout",
     "output_type": "stream",
     "text": [
      "Spam letters: 13.41%, Normal letters 86.59%\n"
     ]
    }
   ],
   "source": [
    "counts = df['spam'].value_counts()\n",
    "spam_perc = round((counts[1] / df.shape[0]) * 100, 2)\n",
    "print(f'Spam letters: {spam_perc}%, Normal letters {abs(100 - spam_perc)}%')"
   ]
  },
  {
   "cell_type": "code",
   "execution_count": 47,
   "metadata": {},
   "outputs": [
    {
     "data": {
      "text/plain": [
       "spam\n",
       "0    4825\n",
       "1     747\n",
       "Name: count, dtype: int64"
      ]
     },
     "execution_count": 47,
     "metadata": {},
     "output_type": "execute_result"
    }
   ],
   "source": [
    "counts"
   ]
  },
  {
   "cell_type": "markdown",
   "metadata": {},
   "source": [
    "#### Делаю кол-во спам писем == не спаму (747 спам писем)"
   ]
  },
  {
   "cell_type": "code",
   "execution_count": 48,
   "metadata": {},
   "outputs": [
    {
     "name": "stdout",
     "output_type": "stream",
     "text": [
      "spam\n",
      "1    747\n",
      "0    747\n",
      "Name: count, dtype: int64\n"
     ]
    }
   ],
   "source": [
    "non_spam_sampled = df[df['spam'] == 0].sample(n=747, replace=False)\n",
    "balanced_df = pd.concat([non_spam_sampled, df[df['spam'] == 1]])\n",
    "balanced_df = balanced_df.sample(frac=1).reset_index(drop=True)\n",
    "print(balanced_df['spam'].value_counts())"
   ]
  },
  {
   "cell_type": "code",
   "execution_count": 49,
   "metadata": {},
   "outputs": [],
   "source": [
    "#df = df.sample(frac=1) # Несбалансированная база\n",
    "df = balanced_df.sample(frac=1) # Сбалансированная база спам == не спам\n",
    "valid_size = 1000 # Размер валидационной выборки\n",
    "x_train = df[0:-valid_size]\n",
    "x_valid = df[-valid_size:df.shape[0]]"
   ]
  },
  {
   "cell_type": "code",
   "execution_count": 50,
   "metadata": {},
   "outputs": [],
   "source": [
    "spam_prob = {}\n",
    "non_spam_prob = {}\n",
    "total_word_count = 0\n",
    "\n",
    "def calc_word_probs(dtfr):\n",
    "    global spam_prob, non_spam_prob, total_word_count\n",
    "    \n",
    "    spam: pd.DataFrame = dtfr[dtfr['spam'] == 1]\n",
    "    non_spam: pd.DataFrame = dtfr[dtfr['spam'] == 0]\n",
    "    \n",
    "    spam_word_count = 0\n",
    "    non_spam_word_count = 0\n",
    "\n",
    "    # Count occurrences in spam\n",
    "    for _, row in spam.iterrows():\n",
    "        for word in row['message'].split():\n",
    "            if word == '': continue\n",
    "            spam_prob[word] = spam_prob.get(word, {'cnt': 0, 'val': 0})\n",
    "            spam_prob[word]['cnt'] += 1\n",
    "            spam_word_count += 1\n",
    "\n",
    "    # Count occurrences in non-spam\n",
    "    for _, row in non_spam.iterrows():\n",
    "        for word in row['message'].split():\n",
    "            if word == '': continue\n",
    "            non_spam_prob[word] = non_spam_prob.get(word, {'cnt': 0, 'val': 0})\n",
    "            non_spam_prob[word]['cnt'] += 1\n",
    "            non_spam_word_count += 1\n",
    "\n",
    "    total_word_count = spam_word_count + non_spam_word_count\n",
    "\n",
    "    # Apply smoothing and calculate probabilities\n",
    "    all_words = set(spam_prob.keys()).union(set(non_spam_prob.keys()))\n",
    "    for word in all_words:\n",
    "        if word not in spam_prob:\n",
    "            spam_prob[word] = {'cnt': 0, 'val': 0}\n",
    "        if word not in non_spam_prob:\n",
    "            non_spam_prob[word] = {'cnt': 0, 'val': 0}\n",
    "\n",
    "        # Apply Laplace smoothing\n",
    "        spam_prob[word]['val'] = (spam_prob[word]['cnt'] + 1) / (spam_word_count + len(all_words))\n",
    "        non_spam_prob[word]['val'] = (non_spam_prob[word]['cnt'] + 1) / (non_spam_word_count + len(all_words))\n",
    "calc_word_probs(x_train)"
   ]
  },
  {
   "cell_type": "code",
   "execution_count": 51,
   "metadata": {},
   "outputs": [],
   "source": [
    "def print_top_10(table: dict):\n",
    "    item_list = [(word, data) for word, data in table.items()]\n",
    "    sorted_spam_prob = sorted(item_list, key=lambda x: x[1]['val'], reverse=True)\n",
    "    top_10_spam_words = sorted_spam_prob[:10]\n",
    "\n",
    "    for word, data in top_10_spam_words:\n",
    "        print(f\"Word: '{word}' Count: {data['cnt']}, Value: {data['val']}\")"
   ]
  },
  {
   "cell_type": "code",
   "execution_count": 52,
   "metadata": {},
   "outputs": [
    {
     "name": "stdout",
     "output_type": "stream",
     "text": [
      "Word: 'call' Count: 276, Value: 0.01969287643964169\n",
      "Word: 'free' Count: 177, Value: 0.0126546281814304\n",
      "Word: '2' Count: 141, Value: 0.010095265178444475\n",
      "Word: 'u' Count: 124, Value: 0.008886677093701124\n",
      "Word: 'txt' Count: 118, Value: 0.00846011659320347\n",
      "Word: 'ur' Count: 115, Value: 0.008246836342954643\n",
      "Word: 'mobile' Count: 103, Value: 0.0073937153419593345\n",
      "Word: '4' Count: 98, Value: 0.00703824825821129\n",
      "Word: 'text' Count: 96, Value: 0.006896061424712071\n",
      "Word: 'claim' Count: 90, Value: 0.006469500924214418\n"
     ]
    }
   ],
   "source": [
    "print_top_10(spam_prob)"
   ]
  },
  {
   "cell_type": "code",
   "execution_count": 53,
   "metadata": {},
   "outputs": [
    {
     "name": "stdout",
     "output_type": "stream",
     "text": [
      "Word: 'u' Count: 115, Value: 0.012824765063571034\n",
      "Word: 'im' Count: 65, Value: 0.007296849087893864\n",
      "Word: 'got' Count: 38, Value: 0.004311774461028192\n",
      "Word: '2' Count: 36, Value: 0.004090657822001105\n",
      "Word: 'call' Count: 34, Value: 0.003869541182974019\n",
      "Word: 'ill' Count: 34, Value: 0.003869541182974019\n",
      "Word: 'get' Count: 33, Value: 0.0037589828634604756\n",
      "Word: 'dont' Count: 32, Value: 0.003648424543946932\n",
      "Word: 'know' Count: 31, Value: 0.0035378662244333887\n",
      "Word: 'ok' Count: 30, Value: 0.0034273079049198453\n"
     ]
    }
   ],
   "source": [
    "print_top_10(non_spam_prob)"
   ]
  },
  {
   "cell_type": "markdown",
   "metadata": {},
   "source": [
    "#### Вычисляю вероятность спама для 1 слова"
   ]
  },
  {
   "cell_type": "code",
   "execution_count": 54,
   "metadata": {},
   "outputs": [
    {
     "data": {
      "text/plain": [
       "0.0126546281814304"
      ]
     },
     "execution_count": 54,
     "metadata": {},
     "output_type": "execute_result"
    }
   ],
   "source": [
    "test_word = \"free\"\n",
    "P_SPAM = spam_prob[test_word]['val']\n",
    "P_NOT_SPAM = (1 - spam_prob[test_word]['val'])\n",
    "\n",
    "P_S = P_SPAM/(P_NOT_SPAM + P_SPAM)\n",
    "P_S"
   ]
  },
  {
   "cell_type": "markdown",
   "metadata": {},
   "source": [
    "#### Вычисление вероятности спамовости предложения по формуле из лекции"
   ]
  },
  {
   "cell_type": "code",
   "execution_count": 56,
   "metadata": {},
   "outputs": [
    {
     "name": "stdout",
     "output_type": "stream",
     "text": [
      "0.98014403037333\n"
     ]
    }
   ],
   "source": [
    "def bayes_calc(sentence: str):\n",
    "    clean_sent = clean_text(sentence)\n",
    "    p_spam = 1 # произведение вероятностей спама слова F_i\n",
    "    p_non_spam = 1 # произведение вероятностей не спама слова F_i\n",
    "    p_word_given_spam = 0.5 # prior probability of spam\n",
    "    p_word_given_non_spam = 0.5 # prior probability of non-spam\n",
    "    \n",
    "    for word in clean_sent.split():\n",
    "        if word == '': continue\n",
    "        \n",
    "        if word in spam_prob:\n",
    "            p_word_given_spam = spam_prob[word]['val']\n",
    "        else:\n",
    "            # Apply smoothing for unseen words\n",
    "            p_word_given_spam = 1 / (sum(spam_prob[word]['cnt'] for word in spam_prob) + len(spam_prob))\n",
    "        \n",
    "        if word in non_spam_prob:\n",
    "            p_word_given_non_spam = non_spam_prob[word]['val']\n",
    "        else:\n",
    "            # Apply smoothing for unseen words\n",
    "            p_word_given_non_spam = 1 / (sum(non_spam_prob[word]['cnt'] for word in non_spam_prob) + len(non_spam_prob))\n",
    "\n",
    "        p_spam *= p_word_given_spam\n",
    "        p_non_spam *= p_word_given_non_spam\n",
    "\n",
    "    # Calculate the posterior probability P(Spam|Sentence)\n",
    "    p_spam_sentence = p_spam\n",
    "    p_non_spam_sentence = p_non_spam\n",
    "    \n",
    "    return p_spam_sentence / (p_spam_sentence + p_non_spam_sentence)\n"
   ]
  },
  {
   "cell_type": "code",
   "execution_count": 57,
   "metadata": {},
   "outputs": [
    {
     "data": {
      "text/plain": [
       "0.0002483200815954522"
      ]
     },
     "execution_count": 57,
     "metadata": {},
     "output_type": "execute_result"
    }
   ],
   "source": [
    "bayes_calc(\"Good day everyone, the meeting is going to be today at 5 am\") "
   ]
  },
  {
   "cell_type": "code",
   "execution_count": 58,
   "metadata": {},
   "outputs": [
    {
     "data": {
      "text/plain": [
       "0.98014403037333"
      ]
     },
     "execution_count": 58,
     "metadata": {},
     "output_type": "execute_result"
    }
   ],
   "source": [
    "bayes_calc(\"get free money get credit from out company\")"
   ]
  },
  {
   "cell_type": "code",
   "execution_count": 59,
   "metadata": {},
   "outputs": [],
   "source": [
    "threshold = 0.5\n",
    "def is_spam(sent):\n",
    "    return 1 if bayes_calc(sent) > threshold else 0"
   ]
  },
  {
   "cell_type": "code",
   "execution_count": 60,
   "metadata": {},
   "outputs": [
    {
     "data": {
      "text/plain": [
       "1"
      ]
     },
     "execution_count": 60,
     "metadata": {},
     "output_type": "execute_result"
    }
   ],
   "source": [
    "is_spam(\"get free money get credit from out company\")"
   ]
  },
  {
   "cell_type": "code",
   "execution_count": 61,
   "metadata": {},
   "outputs": [
    {
     "data": {
      "text/plain": [
       "0"
      ]
     },
     "execution_count": 61,
     "metadata": {},
     "output_type": "execute_result"
    }
   ],
   "source": [
    "is_spam(\"Good day everyone, the meeting is going to be today at 5 am\")"
   ]
  },
  {
   "cell_type": "code",
   "execution_count": 62,
   "metadata": {},
   "outputs": [
    {
     "data": {
      "text/plain": [
       "1"
      ]
     },
     "execution_count": 62,
     "metadata": {},
     "output_type": "execute_result"
    }
   ],
   "source": [
    "is_spam(\"call free to ur txt\") # Топ спам слова"
   ]
  },
  {
   "cell_type": "code",
   "execution_count": 63,
   "metadata": {},
   "outputs": [],
   "source": [
    "right = 0 \n",
    "error = 0\n",
    "valid_size = len(x_valid)\n",
    "for _, row in x_valid.iterrows():\n",
    "    y_pred = is_spam(row['message'])\n",
    "    y_true = row['spam'] \n",
    "    right += y_true == y_pred\n",
    "    error += y_true != y_pred"
   ]
  },
  {
   "cell_type": "code",
   "execution_count": 64,
   "metadata": {},
   "outputs": [
    {
     "data": {
      "text/plain": [
       "273"
      ]
     },
     "execution_count": 64,
     "metadata": {},
     "output_type": "execute_result"
    }
   ],
   "source": [
    "right"
   ]
  },
  {
   "cell_type": "code",
   "execution_count": 65,
   "metadata": {},
   "outputs": [
    {
     "data": {
      "text/plain": [
       "27"
      ]
     },
     "execution_count": 65,
     "metadata": {},
     "output_type": "execute_result"
    }
   ],
   "source": [
    "error"
   ]
  },
  {
   "cell_type": "code",
   "execution_count": 66,
   "metadata": {},
   "outputs": [
    {
     "data": {
      "text/plain": [
       "300"
      ]
     },
     "execution_count": 66,
     "metadata": {},
     "output_type": "execute_result"
    }
   ],
   "source": [
    "valid_size"
   ]
  },
  {
   "cell_type": "markdown",
   "metadata": {},
   "source": [
    "#### Наверно надо выбрать ещё нормальную метрику отклонений для бинарный классификации"
   ]
  },
  {
   "cell_type": "code",
   "execution_count": 67,
   "metadata": {},
   "outputs": [
    {
     "name": "stdout",
     "output_type": "stream",
     "text": [
      "Correct: 91.0% Errors: 9.0%\n"
     ]
    }
   ],
   "source": [
    "print(f\"Correct: {round(right/valid_size*100, 2)}% Errors: {round(error/valid_size*100, 2)}%\")"
   ]
  },
  {
   "cell_type": "code",
   "execution_count": 68,
   "metadata": {},
   "outputs": [
    {
     "data": {
      "text/plain": [
       "0.998570043454115"
      ]
     },
     "execution_count": 68,
     "metadata": {},
     "output_type": "execute_result"
    }
   ],
   "source": [
    "bayes_calc(\"free call get credit\")"
   ]
  },
  {
   "cell_type": "code",
   "execution_count": 69,
   "metadata": {},
   "outputs": [
    {
     "data": {
      "text/plain": [
       "0.009450825829812123"
      ]
     },
     "execution_count": 69,
     "metadata": {},
     "output_type": "execute_result"
    }
   ],
   "source": [
    "bayes_calc(\"hey bro how are you? how is your day? Meeting today\")"
   ]
  }
 ],
 "metadata": {
  "kernelspec": {
   "display_name": "Python 3",
   "language": "python",
   "name": "python3"
  },
  "language_info": {
   "codemirror_mode": {
    "name": "ipython",
    "version": 3
   },
   "file_extension": ".py",
   "mimetype": "text/x-python",
   "name": "python",
   "nbconvert_exporter": "python",
   "pygments_lexer": "ipython3",
   "version": "3.9.13"
  }
 },
 "nbformat": 4,
 "nbformat_minor": 2
}
