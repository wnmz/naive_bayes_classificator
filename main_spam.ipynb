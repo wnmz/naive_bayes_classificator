{
 "cells": [
  {
   "cell_type": "code",
   "execution_count": 54,
   "metadata": {},
   "outputs": [
    {
     "name": "stderr",
     "output_type": "stream",
     "text": [
      "[nltk_data] Downloading package stopwords to\n",
      "[nltk_data]     C:\\Users\\wnm\\AppData\\Roaming\\nltk_data...\n",
      "[nltk_data]   Package stopwords is already up-to-date!\n"
     ]
    },
    {
     "data": {
      "text/plain": [
       "True"
      ]
     },
     "execution_count": 54,
     "metadata": {},
     "output_type": "execute_result"
    }
   ],
   "source": [
    "import pandas as pd\n",
    "import numpy as np\n",
    "import re\n",
    "from nltk.corpus import stopwords\n",
    "import nltk\n",
    "nltk.download('stopwords')"
   ]
  },
  {
   "cell_type": "code",
   "execution_count": 55,
   "metadata": {},
   "outputs": [
    {
     "data": {
      "text/html": [
       "<div>\n",
       "<style scoped>\n",
       "    .dataframe tbody tr th:only-of-type {\n",
       "        vertical-align: middle;\n",
       "    }\n",
       "\n",
       "    .dataframe tbody tr th {\n",
       "        vertical-align: top;\n",
       "    }\n",
       "\n",
       "    .dataframe thead th {\n",
       "        text-align: right;\n",
       "    }\n",
       "</style>\n",
       "<table border=\"1\" class=\"dataframe\">\n",
       "  <thead>\n",
       "    <tr style=\"text-align: right;\">\n",
       "      <th></th>\n",
       "      <th>spam</th>\n",
       "      <th>message</th>\n",
       "      <th>Unnamed: 2</th>\n",
       "      <th>Unnamed: 3</th>\n",
       "      <th>Unnamed: 4</th>\n",
       "    </tr>\n",
       "  </thead>\n",
       "  <tbody>\n",
       "    <tr>\n",
       "      <th>2957</th>\n",
       "      <td>spam</td>\n",
       "      <td>U have a secret admirer. REVEAL who thinks U R...</td>\n",
       "      <td>NaN</td>\n",
       "      <td>NaN</td>\n",
       "      <td>NaN</td>\n",
       "    </tr>\n",
       "    <tr>\n",
       "      <th>4346</th>\n",
       "      <td>spam</td>\n",
       "      <td>U 447801259231 have a secret admirer who is lo...</td>\n",
       "      <td>NaN</td>\n",
       "      <td>NaN</td>\n",
       "      <td>NaN</td>\n",
       "    </tr>\n",
       "    <tr>\n",
       "      <th>3163</th>\n",
       "      <td>ham</td>\n",
       "      <td>TODAY is Sorry day.! If ever i was angry with ...</td>\n",
       "      <td>NaN</td>\n",
       "      <td>NaN</td>\n",
       "      <td>NaN</td>\n",
       "    </tr>\n",
       "    <tr>\n",
       "      <th>81</th>\n",
       "      <td>ham</td>\n",
       "      <td>K. Did you call me just now ah?</td>\n",
       "      <td>NaN</td>\n",
       "      <td>NaN</td>\n",
       "      <td>NaN</td>\n",
       "    </tr>\n",
       "    <tr>\n",
       "      <th>4388</th>\n",
       "      <td>ham</td>\n",
       "      <td>K I'm ready,  &amp;lt;#&amp;gt; ?</td>\n",
       "      <td>NaN</td>\n",
       "      <td>NaN</td>\n",
       "      <td>NaN</td>\n",
       "    </tr>\n",
       "  </tbody>\n",
       "</table>\n",
       "</div>"
      ],
      "text/plain": [
       "      spam                                            message Unnamed: 2  \\\n",
       "2957  spam  U have a secret admirer. REVEAL who thinks U R...        NaN   \n",
       "4346  spam  U 447801259231 have a secret admirer who is lo...        NaN   \n",
       "3163   ham  TODAY is Sorry day.! If ever i was angry with ...        NaN   \n",
       "81     ham                   K. Did you call me just now ah?         NaN   \n",
       "4388   ham                          K I'm ready,  &lt;#&gt; ?        NaN   \n",
       "\n",
       "     Unnamed: 3 Unnamed: 4  \n",
       "2957        NaN        NaN  \n",
       "4346        NaN        NaN  \n",
       "3163        NaN        NaN  \n",
       "81          NaN        NaN  \n",
       "4388        NaN        NaN  "
      ]
     },
     "execution_count": 55,
     "metadata": {},
     "output_type": "execute_result"
    }
   ],
   "source": [
    "df = pd.read_csv('./spam.csv')\n",
    "df.sample(5)"
   ]
  },
  {
   "cell_type": "code",
   "execution_count": 56,
   "metadata": {},
   "outputs": [],
   "source": [
    "df['spam'] = np.where(df['spam'] == 'spam', 1, 0)"
   ]
  },
  {
   "cell_type": "code",
   "execution_count": 57,
   "metadata": {},
   "outputs": [
    {
     "data": {
      "text/html": [
       "<div>\n",
       "<style scoped>\n",
       "    .dataframe tbody tr th:only-of-type {\n",
       "        vertical-align: middle;\n",
       "    }\n",
       "\n",
       "    .dataframe tbody tr th {\n",
       "        vertical-align: top;\n",
       "    }\n",
       "\n",
       "    .dataframe thead th {\n",
       "        text-align: right;\n",
       "    }\n",
       "</style>\n",
       "<table border=\"1\" class=\"dataframe\">\n",
       "  <thead>\n",
       "    <tr style=\"text-align: right;\">\n",
       "      <th></th>\n",
       "      <th>spam</th>\n",
       "      <th>message</th>\n",
       "      <th>Unnamed: 2</th>\n",
       "      <th>Unnamed: 3</th>\n",
       "      <th>Unnamed: 4</th>\n",
       "    </tr>\n",
       "  </thead>\n",
       "  <tbody>\n",
       "    <tr>\n",
       "      <th>3486</th>\n",
       "      <td>0</td>\n",
       "      <td>Change windows logoff sound..</td>\n",
       "      <td>NaN</td>\n",
       "      <td>NaN</td>\n",
       "      <td>NaN</td>\n",
       "    </tr>\n",
       "    <tr>\n",
       "      <th>1442</th>\n",
       "      <td>0</td>\n",
       "      <td>Its ok., i just askd did u knw tht no?</td>\n",
       "      <td>NaN</td>\n",
       "      <td>NaN</td>\n",
       "      <td>NaN</td>\n",
       "    </tr>\n",
       "    <tr>\n",
       "      <th>1612</th>\n",
       "      <td>1</td>\n",
       "      <td>RT-KIng Pro Video Club&gt;&gt; Need help? info@ringt...</td>\n",
       "      <td>NaN</td>\n",
       "      <td>NaN</td>\n",
       "      <td>NaN</td>\n",
       "    </tr>\n",
       "  </tbody>\n",
       "</table>\n",
       "</div>"
      ],
      "text/plain": [
       "      spam                                            message Unnamed: 2  \\\n",
       "3486     0                      Change windows logoff sound..        NaN   \n",
       "1442     0             Its ok., i just askd did u knw tht no?        NaN   \n",
       "1612     1  RT-KIng Pro Video Club>> Need help? info@ringt...        NaN   \n",
       "\n",
       "     Unnamed: 3 Unnamed: 4  \n",
       "3486        NaN        NaN  \n",
       "1442        NaN        NaN  \n",
       "1612        NaN        NaN  "
      ]
     },
     "execution_count": 57,
     "metadata": {},
     "output_type": "execute_result"
    }
   ],
   "source": [
    "df.sample(3)"
   ]
  },
  {
   "cell_type": "code",
   "execution_count": 58,
   "metadata": {},
   "outputs": [],
   "source": [
    "df = df[['spam', 'message']]"
   ]
  },
  {
   "cell_type": "code",
   "execution_count": 59,
   "metadata": {},
   "outputs": [
    {
     "data": {
      "text/html": [
       "<div>\n",
       "<style scoped>\n",
       "    .dataframe tbody tr th:only-of-type {\n",
       "        vertical-align: middle;\n",
       "    }\n",
       "\n",
       "    .dataframe tbody tr th {\n",
       "        vertical-align: top;\n",
       "    }\n",
       "\n",
       "    .dataframe thead th {\n",
       "        text-align: right;\n",
       "    }\n",
       "</style>\n",
       "<table border=\"1\" class=\"dataframe\">\n",
       "  <thead>\n",
       "    <tr style=\"text-align: right;\">\n",
       "      <th></th>\n",
       "      <th>spam</th>\n",
       "      <th>message</th>\n",
       "    </tr>\n",
       "  </thead>\n",
       "  <tbody>\n",
       "    <tr>\n",
       "      <th>0</th>\n",
       "      <td>0</td>\n",
       "      <td>Go until jurong point, crazy.. Available only ...</td>\n",
       "    </tr>\n",
       "    <tr>\n",
       "      <th>1</th>\n",
       "      <td>0</td>\n",
       "      <td>Ok lar... Joking wif u oni...</td>\n",
       "    </tr>\n",
       "    <tr>\n",
       "      <th>2</th>\n",
       "      <td>1</td>\n",
       "      <td>Free entry in 2 a wkly comp to win FA Cup fina...</td>\n",
       "    </tr>\n",
       "    <tr>\n",
       "      <th>3</th>\n",
       "      <td>0</td>\n",
       "      <td>U dun say so early hor... U c already then say...</td>\n",
       "    </tr>\n",
       "    <tr>\n",
       "      <th>4</th>\n",
       "      <td>0</td>\n",
       "      <td>Nah I don't think he goes to usf, he lives aro...</td>\n",
       "    </tr>\n",
       "    <tr>\n",
       "      <th>...</th>\n",
       "      <td>...</td>\n",
       "      <td>...</td>\n",
       "    </tr>\n",
       "    <tr>\n",
       "      <th>5567</th>\n",
       "      <td>1</td>\n",
       "      <td>This is the 2nd time we have tried 2 contact u...</td>\n",
       "    </tr>\n",
       "    <tr>\n",
       "      <th>5568</th>\n",
       "      <td>0</td>\n",
       "      <td>Will М_ b going to esplanade fr home?</td>\n",
       "    </tr>\n",
       "    <tr>\n",
       "      <th>5569</th>\n",
       "      <td>0</td>\n",
       "      <td>Pity, * was in mood for that. So...any other s...</td>\n",
       "    </tr>\n",
       "    <tr>\n",
       "      <th>5570</th>\n",
       "      <td>0</td>\n",
       "      <td>The guy did some bitching but I acted like i'd...</td>\n",
       "    </tr>\n",
       "    <tr>\n",
       "      <th>5571</th>\n",
       "      <td>0</td>\n",
       "      <td>Rofl. Its true to its name</td>\n",
       "    </tr>\n",
       "  </tbody>\n",
       "</table>\n",
       "<p>5572 rows × 2 columns</p>\n",
       "</div>"
      ],
      "text/plain": [
       "      spam                                            message\n",
       "0        0  Go until jurong point, crazy.. Available only ...\n",
       "1        0                      Ok lar... Joking wif u oni...\n",
       "2        1  Free entry in 2 a wkly comp to win FA Cup fina...\n",
       "3        0  U dun say so early hor... U c already then say...\n",
       "4        0  Nah I don't think he goes to usf, he lives aro...\n",
       "...    ...                                                ...\n",
       "5567     1  This is the 2nd time we have tried 2 contact u...\n",
       "5568     0              Will М_ b going to esplanade fr home?\n",
       "5569     0  Pity, * was in mood for that. So...any other s...\n",
       "5570     0  The guy did some bitching but I acted like i'd...\n",
       "5571     0                         Rofl. Its true to its name\n",
       "\n",
       "[5572 rows x 2 columns]"
      ]
     },
     "execution_count": 59,
     "metadata": {},
     "output_type": "execute_result"
    }
   ],
   "source": [
    "df"
   ]
  },
  {
   "cell_type": "code",
   "execution_count": 60,
   "metadata": {},
   "outputs": [],
   "source": [
    "def clean_text(text: str):\n",
    "    text = text.lower()\n",
    "    # Удаление спец символов\n",
    "    text = re.sub(r'[^a-zA-Z0-9\\s]', '', text)\n",
    "    # Удаление множественных пробелов\n",
    "    text = re.sub(r'\\s+', ' ', text)\n",
    "    text = text.replace('\\n', '')\n",
    "    # Фильтрация стоп слов\n",
    "    stop_words = set(stopwords.words('english'))\n",
    "    filtered_sentence = [word for word in text.split(\" \") if not word in stop_words]\n",
    "    return ' '.join(filtered_sentence)\n",
    "    #return text"
   ]
  },
  {
   "cell_type": "code",
   "execution_count": 61,
   "metadata": {},
   "outputs": [
    {
     "data": {
      "text/plain": [
       "'Ok lar... Joking wif u oni...'"
      ]
     },
     "execution_count": 61,
     "metadata": {},
     "output_type": "execute_result"
    }
   ],
   "source": [
    "df['message'][1]"
   ]
  },
  {
   "cell_type": "code",
   "execution_count": 62,
   "metadata": {},
   "outputs": [
    {
     "data": {
      "text/plain": [
       "'ok lar joking wif u oni'"
      ]
     },
     "execution_count": 62,
     "metadata": {},
     "output_type": "execute_result"
    }
   ],
   "source": [
    "clean_text(df['message'][1])"
   ]
  },
  {
   "cell_type": "code",
   "execution_count": 63,
   "metadata": {},
   "outputs": [],
   "source": [
    "df['message'] = df['message'].apply(clean_text)"
   ]
  },
  {
   "cell_type": "code",
   "execution_count": 64,
   "metadata": {},
   "outputs": [
    {
     "data": {
      "text/html": [
       "<div>\n",
       "<style scoped>\n",
       "    .dataframe tbody tr th:only-of-type {\n",
       "        vertical-align: middle;\n",
       "    }\n",
       "\n",
       "    .dataframe tbody tr th {\n",
       "        vertical-align: top;\n",
       "    }\n",
       "\n",
       "    .dataframe thead th {\n",
       "        text-align: right;\n",
       "    }\n",
       "</style>\n",
       "<table border=\"1\" class=\"dataframe\">\n",
       "  <thead>\n",
       "    <tr style=\"text-align: right;\">\n",
       "      <th></th>\n",
       "      <th>spam</th>\n",
       "      <th>message</th>\n",
       "    </tr>\n",
       "  </thead>\n",
       "  <tbody>\n",
       "    <tr>\n",
       "      <th>3499</th>\n",
       "      <td>1</td>\n",
       "      <td>dorothykiefercom bank granite issues strongbuy...</td>\n",
       "    </tr>\n",
       "    <tr>\n",
       "      <th>3905</th>\n",
       "      <td>0</td>\n",
       "      <td>went fast asleep deartake care</td>\n",
       "    </tr>\n",
       "    <tr>\n",
       "      <th>5356</th>\n",
       "      <td>0</td>\n",
       "      <td>tell something thats okay</td>\n",
       "    </tr>\n",
       "  </tbody>\n",
       "</table>\n",
       "</div>"
      ],
      "text/plain": [
       "      spam                                            message\n",
       "3499     1  dorothykiefercom bank granite issues strongbuy...\n",
       "3905     0                     went fast asleep deartake care\n",
       "5356     0                          tell something thats okay"
      ]
     },
     "execution_count": 64,
     "metadata": {},
     "output_type": "execute_result"
    }
   ],
   "source": [
    "df.sample(3)"
   ]
  },
  {
   "cell_type": "code",
   "execution_count": 65,
   "metadata": {},
   "outputs": [
    {
     "name": "stdout",
     "output_type": "stream",
     "text": [
      "Spam letters: 13.41%, Normal letters 86.59%\n"
     ]
    }
   ],
   "source": [
    "counts = df['spam'].value_counts()\n",
    "spam_perc = round((counts[1] / df.shape[0]) * 100, 2)\n",
    "print(f'Spam letters: {spam_perc}%, Normal letters {abs(100 - spam_perc)}%')"
   ]
  },
  {
   "cell_type": "code",
   "execution_count": 66,
   "metadata": {},
   "outputs": [
    {
     "data": {
      "text/plain": [
       "spam\n",
       "0    4825\n",
       "1     747\n",
       "Name: count, dtype: int64"
      ]
     },
     "execution_count": 66,
     "metadata": {},
     "output_type": "execute_result"
    }
   ],
   "source": [
    "counts"
   ]
  },
  {
   "cell_type": "markdown",
   "metadata": {},
   "source": [
    "#### Делаю кол-во спам писем == не спаму (747 спам писем)"
   ]
  },
  {
   "cell_type": "code",
   "execution_count": 67,
   "metadata": {},
   "outputs": [
    {
     "name": "stdout",
     "output_type": "stream",
     "text": [
      "spam\n",
      "0    747\n",
      "1    747\n",
      "Name: count, dtype: int64\n"
     ]
    }
   ],
   "source": [
    "non_spam_sampled = df[df['spam'] == 0].sample(n=747, replace=False)\n",
    "balanced_df = pd.concat([non_spam_sampled, df[df['spam'] == 1]])\n",
    "balanced_df = balanced_df.sample(frac=1).reset_index(drop=True)\n",
    "print(balanced_df['spam'].value_counts())"
   ]
  },
  {
   "cell_type": "code",
   "execution_count": 68,
   "metadata": {},
   "outputs": [],
   "source": [
    "#df = df.sample(frac=1) # Несбалансированная база\n",
    "df = balanced_df.sample(frac=1) # Сбалансированная база спам == не спам\n",
    "valid_size = 300 # Размер валидационной выборки\n",
    "x_train = df[0:-valid_size]\n",
    "x_valid = df[-valid_size:df.shape[0]]"
   ]
  },
  {
   "cell_type": "code",
   "execution_count": 88,
   "metadata": {},
   "outputs": [],
   "source": [
    "spam_prob: dict = {} \n",
    "non_spam_prob: dict = {}\n",
    "# Словари [слово: \n",
    "#    { \n",
    "#      cnt: кол-во встречаемочти, в своём класса,  \n",
    "#      val: (кол-во встречаемости)/(кол-во встречаемости во *всех типах*)\n",
    "#     }]\n",
    "total_word_count = 0\n",
    "\n",
    "def calc_word_probs(dtfr):\n",
    "    spam: pd.DataFrame = dtfr[dtfr['spam'] == 1]\n",
    "    non_spam: pd.DataFrame = dtfr[dtfr['spam'] == 0]\n",
    "    spam_word_cnt = 0\n",
    "    # Насчитываю встречаемость в спаме\n",
    "    for _, row in spam.iterrows():\n",
    "        for word in row['message'].split(' '):\n",
    "            if(word == ''): continue\n",
    "            spam_word_cnt += 1\n",
    "            if word in spam_prob:\n",
    "                spam_prob[word]['cnt'] += 1\n",
    "            else:\n",
    "                spam_prob[word] = {'cnt': 1, 'val': 0}\n",
    "    # Насчитываю встречаемость не в спаме + общее кол-во слов\n",
    "    non_spam_word_cnt = 0\n",
    "    for _, row in non_spam.iterrows():\n",
    "        for word in row['message'].split(' '):\n",
    "            if(word == ''): continue\n",
    "            non_spam_word_cnt += 1\n",
    "            if word in non_spam_prob:\n",
    "                non_spam_prob[word]['cnt'] += 1\n",
    "            else:\n",
    "                non_spam_prob[word] = {'cnt': 1, 'val': 0}\n",
    "\n",
    "    total_word_count = non_spam_word_cnt + spam_word_cnt\n",
    "    # Вероятность слова = (кол-во встречаемости)/(кол-во встречаемости в спаме + не в спаме)\n",
    "    # Пробовал делить только на спам, ничего сильно не менялось\n",
    "    for key in spam_prob.keys():\n",
    "        spam_prob[key][\"val\"] = spam_prob[key]['cnt'] / total_word_count\n",
    "    for key in non_spam_prob.keys():\n",
    "        non_spam_prob[key][\"val\"] = non_spam_prob[key]['cnt'] / total_word_count\n",
    "\n",
    "\n",
    "calc_word_probs(x_train)"
   ]
  },
  {
   "cell_type": "code",
   "execution_count": 89,
   "metadata": {},
   "outputs": [],
   "source": [
    "def print_top_10(table: dict):\n",
    "    item_list = [(word, data) for word, data in table.items()]\n",
    "    sorted_spam_prob = sorted(item_list, key=lambda x: x[1]['val'], reverse=True)\n",
    "    top_10_spam_words = sorted_spam_prob[:10]\n",
    "\n",
    "    for word, data in top_10_spam_words:\n",
    "        print(f\"Word: '{word}' Count: {data['cnt']}, Value: {data['val']}\")"
   ]
  },
  {
   "cell_type": "code",
   "execution_count": 90,
   "metadata": {},
   "outputs": [
    {
     "name": "stdout",
     "output_type": "stream",
     "text": [
      "Word: 'call' Count: 279, Value: 0.027947510768306122\n",
      "Word: 'free' Count: 169, Value: 0.016928778924171092\n",
      "Word: '2' Count: 136, Value: 0.013623159370930582\n",
      "Word: 'u' Count: 123, Value: 0.012320945607532805\n",
      "Word: 'txt' Count: 120, Value: 0.012020434739056396\n",
      "Word: 'ur' Count: 108, Value: 0.010818391265150756\n",
      "Word: 'stop' Count: 100, Value: 0.010017028949213663\n",
      "Word: 'text' Count: 96, Value: 0.009616347791245117\n",
      "Word: '4' Count: 95, Value: 0.00951617750175298\n",
      "Word: 'mobile' Count: 89, Value: 0.00891515576480016\n"
     ]
    }
   ],
   "source": [
    "print_top_10(spam_prob)"
   ]
  },
  {
   "cell_type": "code",
   "execution_count": 91,
   "metadata": {},
   "outputs": [
    {
     "name": "stdout",
     "output_type": "stream",
     "text": [
      "Word: 'u' Count: 112, Value: 0.011219072423119304\n",
      "Word: 'im' Count: 57, Value: 0.005709706501051788\n",
      "Word: 'dont' Count: 39, Value: 0.003906641290193328\n",
      "Word: '2' Count: 37, Value: 0.0037063007112090552\n",
      "Word: 'ltgt' Count: 36, Value: 0.0036061304217169187\n",
      "Word: 'get' Count: 36, Value: 0.0036061304217169187\n",
      "Word: 'good' Count: 34, Value: 0.0034057898427326456\n",
      "Word: 'ur' Count: 34, Value: 0.0034057898427326456\n",
      "Word: 'go' Count: 34, Value: 0.0034057898427326456\n",
      "Word: 'like' Count: 32, Value: 0.003205449263748372\n"
     ]
    }
   ],
   "source": [
    "print_top_10(non_spam_prob)"
   ]
  },
  {
   "cell_type": "markdown",
   "metadata": {},
   "source": [
    "#### Вычисляю вероятность спама для 1 слова"
   ]
  },
  {
   "cell_type": "code",
   "execution_count": 92,
   "metadata": {},
   "outputs": [
    {
     "data": {
      "text/plain": [
       "0.016928778924171092"
      ]
     },
     "execution_count": 92,
     "metadata": {},
     "output_type": "execute_result"
    }
   ],
   "source": [
    "test_word = \"free\"\n",
    "P_SPAM = spam_prob[test_word]['val']\n",
    "P_NOT_SPAM = (1 - spam_prob[test_word]['val'])\n",
    "\n",
    "P_S = P_SPAM/(P_NOT_SPAM + P_SPAM)\n",
    "P_S"
   ]
  },
  {
   "cell_type": "markdown",
   "metadata": {},
   "source": [
    "#### Вычисление вероятности спамовости предложения по формуле из лекции"
   ]
  },
  {
   "cell_type": "code",
   "execution_count": 93,
   "metadata": {},
   "outputs": [],
   "source": [
    "def bayes_calc(sentence: str):\n",
    "    clean_sent = clean_text(sentence)\n",
    "    num = 1 # произведение вероятностей спама слова F_i\n",
    "    inv_prob = 1 # произведение обратных вероятностей слова F_i\n",
    "    for word in clean_sent.split(' '):\n",
    "        if word not in spam_prob: continue # Если слова нет в словаре - пропускаю\n",
    "        spam_probability = spam_prob[word]['val']\n",
    "\n",
    "        num *= spam_probability\n",
    "        inv_prob *= (1 - spam_probability)\n",
    "    \n",
    "    return num / (num + inv_prob) "
   ]
  },
  {
   "cell_type": "code",
   "execution_count": 94,
   "metadata": {},
   "outputs": [
    {
     "data": {
      "text/plain": [
       "7.503108434743253e-20"
      ]
     },
     "execution_count": 94,
     "metadata": {},
     "output_type": "execute_result"
    }
   ],
   "source": [
    "bayes_calc(\"Good day everyone, the meeting is going to be today at 5 am\") "
   ]
  },
  {
   "cell_type": "code",
   "execution_count": 95,
   "metadata": {},
   "outputs": [
    {
     "data": {
      "text/plain": [
       "2.795463454764443e-17"
      ]
     },
     "execution_count": 95,
     "metadata": {},
     "output_type": "execute_result"
    }
   ],
   "source": [
    "bayes_calc(\"get free money get credit from out company\")"
   ]
  },
  {
   "cell_type": "code",
   "execution_count": 96,
   "metadata": {},
   "outputs": [],
   "source": [
    "threshold = 0.6\n",
    "def is_spam(sent):\n",
    "    return 1 if bayes_calc(sent) > threshold else 0"
   ]
  },
  {
   "cell_type": "code",
   "execution_count": 97,
   "metadata": {},
   "outputs": [
    {
     "data": {
      "text/plain": [
       "0"
      ]
     },
     "execution_count": 97,
     "metadata": {},
     "output_type": "execute_result"
    }
   ],
   "source": [
    "is_spam(\"get free money get credit from out company\")"
   ]
  },
  {
   "cell_type": "code",
   "execution_count": 98,
   "metadata": {},
   "outputs": [
    {
     "data": {
      "text/plain": [
       "0"
      ]
     },
     "execution_count": 98,
     "metadata": {},
     "output_type": "execute_result"
    }
   ],
   "source": [
    "is_spam(\"Good day everyone, the meeting is going to be today at 5 am\")"
   ]
  },
  {
   "cell_type": "code",
   "execution_count": 99,
   "metadata": {},
   "outputs": [
    {
     "data": {
      "text/plain": [
       "0"
      ]
     },
     "execution_count": 99,
     "metadata": {},
     "output_type": "execute_result"
    }
   ],
   "source": [
    "is_spam(\"call free to ur txt\") # Топ спам слова"
   ]
  },
  {
   "cell_type": "code",
   "execution_count": 100,
   "metadata": {},
   "outputs": [],
   "source": [
    "right = 0 \n",
    "error = 0\n",
    "valid_size = len(x_valid)\n",
    "for _, row in x_valid.iterrows():\n",
    "    y_pred = 0#is_spam(row['message'])\n",
    "    y_true = row['spam'] \n",
    "    right += y_true == y_pred\n",
    "    error += y_true != y_pred"
   ]
  },
  {
   "cell_type": "code",
   "execution_count": 101,
   "metadata": {},
   "outputs": [
    {
     "data": {
      "text/plain": [
       "152"
      ]
     },
     "execution_count": 101,
     "metadata": {},
     "output_type": "execute_result"
    }
   ],
   "source": [
    "right"
   ]
  },
  {
   "cell_type": "code",
   "execution_count": 102,
   "metadata": {},
   "outputs": [
    {
     "data": {
      "text/plain": [
       "148"
      ]
     },
     "execution_count": 102,
     "metadata": {},
     "output_type": "execute_result"
    }
   ],
   "source": [
    "error"
   ]
  },
  {
   "cell_type": "code",
   "execution_count": 103,
   "metadata": {},
   "outputs": [
    {
     "data": {
      "text/plain": [
       "300"
      ]
     },
     "execution_count": 103,
     "metadata": {},
     "output_type": "execute_result"
    }
   ],
   "source": [
    "valid_size"
   ]
  },
  {
   "cell_type": "markdown",
   "metadata": {},
   "source": [
    "#### Наверно надо выбрать ещё нормальную метрику отклонений для бинарный классификации"
   ]
  },
  {
   "cell_type": "code",
   "execution_count": 104,
   "metadata": {},
   "outputs": [
    {
     "name": "stdout",
     "output_type": "stream",
     "text": [
      "Correct: 50.67% Errors: 49.33%\n"
     ]
    }
   ],
   "source": [
    "print(f\"Correct: {round(right/valid_size*100, 2)}% Errors: {round(error/valid_size*100, 2)}%\")"
   ]
  },
  {
   "cell_type": "code",
   "execution_count": 105,
   "metadata": {},
   "outputs": [
    {
     "data": {
      "text/plain": [
       "1.5756126093450454e-09"
      ]
     },
     "execution_count": 105,
     "metadata": {},
     "output_type": "execute_result"
    }
   ],
   "source": [
    "bayes_calc(\"free call get credit\")"
   ]
  },
  {
   "cell_type": "code",
   "execution_count": 106,
   "metadata": {},
   "outputs": [
    {
     "data": {
      "text/plain": [
       "7.05630143684069e-10"
      ]
     },
     "execution_count": 106,
     "metadata": {},
     "output_type": "execute_result"
    }
   ],
   "source": [
    "bayes_calc(\"hey bro how are you? how is your day? Meeting today\")"
   ]
  }
 ],
 "metadata": {
  "kernelspec": {
   "display_name": "Python 3",
   "language": "python",
   "name": "python3"
  },
  "language_info": {
   "codemirror_mode": {
    "name": "ipython",
    "version": 3
   },
   "file_extension": ".py",
   "mimetype": "text/x-python",
   "name": "python",
   "nbconvert_exporter": "python",
   "pygments_lexer": "ipython3",
   "version": "3.9.13"
  }
 },
 "nbformat": 4,
 "nbformat_minor": 2
}
