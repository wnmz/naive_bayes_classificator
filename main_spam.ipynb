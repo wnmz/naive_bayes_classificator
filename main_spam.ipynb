{
 "cells": [
  {
   "cell_type": "code",
   "execution_count": 70,
   "metadata": {},
   "outputs": [
    {
     "name": "stderr",
     "output_type": "stream",
     "text": [
      "[nltk_data] Downloading package stopwords to\n",
      "[nltk_data]     C:\\Users\\wnm\\AppData\\Roaming\\nltk_data...\n",
      "[nltk_data]   Package stopwords is already up-to-date!\n"
     ]
    },
    {
     "data": {
      "text/plain": [
       "True"
      ]
     },
     "execution_count": 70,
     "metadata": {},
     "output_type": "execute_result"
    }
   ],
   "source": [
    "import pandas as pd\n",
    "import numpy as np\n",
    "import re\n",
    "from nltk.corpus import stopwords\n",
    "import nltk\n",
    "nltk.download('stopwords')"
   ]
  },
  {
   "cell_type": "code",
   "execution_count": 71,
   "metadata": {},
   "outputs": [
    {
     "data": {
      "text/html": [
       "<div>\n",
       "<style scoped>\n",
       "    .dataframe tbody tr th:only-of-type {\n",
       "        vertical-align: middle;\n",
       "    }\n",
       "\n",
       "    .dataframe tbody tr th {\n",
       "        vertical-align: top;\n",
       "    }\n",
       "\n",
       "    .dataframe thead th {\n",
       "        text-align: right;\n",
       "    }\n",
       "</style>\n",
       "<table border=\"1\" class=\"dataframe\">\n",
       "  <thead>\n",
       "    <tr style=\"text-align: right;\">\n",
       "      <th></th>\n",
       "      <th>spam</th>\n",
       "      <th>message</th>\n",
       "      <th>Unnamed: 2</th>\n",
       "      <th>Unnamed: 3</th>\n",
       "      <th>Unnamed: 4</th>\n",
       "    </tr>\n",
       "  </thead>\n",
       "  <tbody>\n",
       "    <tr>\n",
       "      <th>4978</th>\n",
       "      <td>ham</td>\n",
       "      <td>Spending new years with my brother and his fam...</td>\n",
       "      <td>NaN</td>\n",
       "      <td>NaN</td>\n",
       "      <td>NaN</td>\n",
       "    </tr>\n",
       "    <tr>\n",
       "      <th>1893</th>\n",
       "      <td>ham</td>\n",
       "      <td>Good Morning plz call me sir</td>\n",
       "      <td>NaN</td>\n",
       "      <td>NaN</td>\n",
       "      <td>NaN</td>\n",
       "    </tr>\n",
       "    <tr>\n",
       "      <th>4545</th>\n",
       "      <td>ham</td>\n",
       "      <td>Never try alone to take the weight of a tear t...</td>\n",
       "      <td>NaN</td>\n",
       "      <td>NaN</td>\n",
       "      <td>NaN</td>\n",
       "    </tr>\n",
       "    <tr>\n",
       "      <th>4862</th>\n",
       "      <td>spam</td>\n",
       "      <td>Bored housewives! Chat n date now! 0871750.77....</td>\n",
       "      <td>NaN</td>\n",
       "      <td>NaN</td>\n",
       "      <td>NaN</td>\n",
       "    </tr>\n",
       "    <tr>\n",
       "      <th>4806</th>\n",
       "      <td>spam</td>\n",
       "      <td>PRIVATE! Your 2004 Account Statement for 07849...</td>\n",
       "      <td>NaN</td>\n",
       "      <td>NaN</td>\n",
       "      <td>NaN</td>\n",
       "    </tr>\n",
       "  </tbody>\n",
       "</table>\n",
       "</div>"
      ],
      "text/plain": [
       "      spam                                            message Unnamed: 2  \\\n",
       "4978   ham  Spending new years with my brother and his fam...        NaN   \n",
       "1893   ham                       Good Morning plz call me sir        NaN   \n",
       "4545   ham  Never try alone to take the weight of a tear t...        NaN   \n",
       "4862  spam  Bored housewives! Chat n date now! 0871750.77....        NaN   \n",
       "4806  spam  PRIVATE! Your 2004 Account Statement for 07849...        NaN   \n",
       "\n",
       "     Unnamed: 3 Unnamed: 4  \n",
       "4978        NaN        NaN  \n",
       "1893        NaN        NaN  \n",
       "4545        NaN        NaN  \n",
       "4862        NaN        NaN  \n",
       "4806        NaN        NaN  "
      ]
     },
     "execution_count": 71,
     "metadata": {},
     "output_type": "execute_result"
    }
   ],
   "source": [
    "df = pd.read_csv('./spam.csv')\n",
    "df.sample(5)"
   ]
  },
  {
   "cell_type": "code",
   "execution_count": 72,
   "metadata": {},
   "outputs": [],
   "source": [
    "df['spam'] = np.where(df['spam'] == 'spam', 1, 0)"
   ]
  },
  {
   "cell_type": "code",
   "execution_count": 73,
   "metadata": {},
   "outputs": [
    {
     "data": {
      "text/html": [
       "<div>\n",
       "<style scoped>\n",
       "    .dataframe tbody tr th:only-of-type {\n",
       "        vertical-align: middle;\n",
       "    }\n",
       "\n",
       "    .dataframe tbody tr th {\n",
       "        vertical-align: top;\n",
       "    }\n",
       "\n",
       "    .dataframe thead th {\n",
       "        text-align: right;\n",
       "    }\n",
       "</style>\n",
       "<table border=\"1\" class=\"dataframe\">\n",
       "  <thead>\n",
       "    <tr style=\"text-align: right;\">\n",
       "      <th></th>\n",
       "      <th>spam</th>\n",
       "      <th>message</th>\n",
       "      <th>Unnamed: 2</th>\n",
       "      <th>Unnamed: 3</th>\n",
       "      <th>Unnamed: 4</th>\n",
       "    </tr>\n",
       "  </thead>\n",
       "  <tbody>\n",
       "    <tr>\n",
       "      <th>1283</th>\n",
       "      <td>0</td>\n",
       "      <td>Yes i thought so. Thanks.</td>\n",
       "      <td>NaN</td>\n",
       "      <td>NaN</td>\n",
       "      <td>NaN</td>\n",
       "    </tr>\n",
       "    <tr>\n",
       "      <th>4101</th>\n",
       "      <td>0</td>\n",
       "      <td>Ok then i will come to ur home after half an hour</td>\n",
       "      <td>NaN</td>\n",
       "      <td>NaN</td>\n",
       "      <td>NaN</td>\n",
       "    </tr>\n",
       "    <tr>\n",
       "      <th>1254</th>\n",
       "      <td>0</td>\n",
       "      <td>What your plan for pongal?</td>\n",
       "      <td>NaN</td>\n",
       "      <td>NaN</td>\n",
       "      <td>NaN</td>\n",
       "    </tr>\n",
       "  </tbody>\n",
       "</table>\n",
       "</div>"
      ],
      "text/plain": [
       "      spam                                            message Unnamed: 2  \\\n",
       "1283     0                          Yes i thought so. Thanks.        NaN   \n",
       "4101     0  Ok then i will come to ur home after half an hour        NaN   \n",
       "1254     0                         What your plan for pongal?        NaN   \n",
       "\n",
       "     Unnamed: 3 Unnamed: 4  \n",
       "1283        NaN        NaN  \n",
       "4101        NaN        NaN  \n",
       "1254        NaN        NaN  "
      ]
     },
     "execution_count": 73,
     "metadata": {},
     "output_type": "execute_result"
    }
   ],
   "source": [
    "df.sample(3)"
   ]
  },
  {
   "cell_type": "code",
   "execution_count": 74,
   "metadata": {},
   "outputs": [],
   "source": [
    "df = df[['spam', 'message']]"
   ]
  },
  {
   "cell_type": "code",
   "execution_count": 75,
   "metadata": {},
   "outputs": [
    {
     "data": {
      "text/html": [
       "<div>\n",
       "<style scoped>\n",
       "    .dataframe tbody tr th:only-of-type {\n",
       "        vertical-align: middle;\n",
       "    }\n",
       "\n",
       "    .dataframe tbody tr th {\n",
       "        vertical-align: top;\n",
       "    }\n",
       "\n",
       "    .dataframe thead th {\n",
       "        text-align: right;\n",
       "    }\n",
       "</style>\n",
       "<table border=\"1\" class=\"dataframe\">\n",
       "  <thead>\n",
       "    <tr style=\"text-align: right;\">\n",
       "      <th></th>\n",
       "      <th>spam</th>\n",
       "      <th>message</th>\n",
       "    </tr>\n",
       "  </thead>\n",
       "  <tbody>\n",
       "    <tr>\n",
       "      <th>0</th>\n",
       "      <td>0</td>\n",
       "      <td>Go until jurong point, crazy.. Available only ...</td>\n",
       "    </tr>\n",
       "    <tr>\n",
       "      <th>1</th>\n",
       "      <td>0</td>\n",
       "      <td>Ok lar... Joking wif u oni...</td>\n",
       "    </tr>\n",
       "    <tr>\n",
       "      <th>2</th>\n",
       "      <td>1</td>\n",
       "      <td>Free entry in 2 a wkly comp to win FA Cup fina...</td>\n",
       "    </tr>\n",
       "    <tr>\n",
       "      <th>3</th>\n",
       "      <td>0</td>\n",
       "      <td>U dun say so early hor... U c already then say...</td>\n",
       "    </tr>\n",
       "    <tr>\n",
       "      <th>4</th>\n",
       "      <td>0</td>\n",
       "      <td>Nah I don't think he goes to usf, he lives aro...</td>\n",
       "    </tr>\n",
       "    <tr>\n",
       "      <th>...</th>\n",
       "      <td>...</td>\n",
       "      <td>...</td>\n",
       "    </tr>\n",
       "    <tr>\n",
       "      <th>5567</th>\n",
       "      <td>1</td>\n",
       "      <td>This is the 2nd time we have tried 2 contact u...</td>\n",
       "    </tr>\n",
       "    <tr>\n",
       "      <th>5568</th>\n",
       "      <td>0</td>\n",
       "      <td>Will М_ b going to esplanade fr home?</td>\n",
       "    </tr>\n",
       "    <tr>\n",
       "      <th>5569</th>\n",
       "      <td>0</td>\n",
       "      <td>Pity, * was in mood for that. So...any other s...</td>\n",
       "    </tr>\n",
       "    <tr>\n",
       "      <th>5570</th>\n",
       "      <td>0</td>\n",
       "      <td>The guy did some bitching but I acted like i'd...</td>\n",
       "    </tr>\n",
       "    <tr>\n",
       "      <th>5571</th>\n",
       "      <td>0</td>\n",
       "      <td>Rofl. Its true to its name</td>\n",
       "    </tr>\n",
       "  </tbody>\n",
       "</table>\n",
       "<p>5572 rows × 2 columns</p>\n",
       "</div>"
      ],
      "text/plain": [
       "      spam                                            message\n",
       "0        0  Go until jurong point, crazy.. Available only ...\n",
       "1        0                      Ok lar... Joking wif u oni...\n",
       "2        1  Free entry in 2 a wkly comp to win FA Cup fina...\n",
       "3        0  U dun say so early hor... U c already then say...\n",
       "4        0  Nah I don't think he goes to usf, he lives aro...\n",
       "...    ...                                                ...\n",
       "5567     1  This is the 2nd time we have tried 2 contact u...\n",
       "5568     0              Will М_ b going to esplanade fr home?\n",
       "5569     0  Pity, * was in mood for that. So...any other s...\n",
       "5570     0  The guy did some bitching but I acted like i'd...\n",
       "5571     0                         Rofl. Its true to its name\n",
       "\n",
       "[5572 rows x 2 columns]"
      ]
     },
     "execution_count": 75,
     "metadata": {},
     "output_type": "execute_result"
    }
   ],
   "source": [
    "df"
   ]
  },
  {
   "cell_type": "code",
   "execution_count": 76,
   "metadata": {},
   "outputs": [],
   "source": [
    "def clean_text(text: str):\n",
    "    text = text.lower()\n",
    "    # Удаление спец символов\n",
    "    text = re.sub(r'[^a-zA-Z0-9\\s]', '', text)\n",
    "    # Удаление множественных пробелов\n",
    "    text = re.sub(r'\\s+', ' ', text)\n",
    "    text = text.replace('\\n', '')\n",
    "    # Фильтрация стоп слов\n",
    "    stop_words = set(stopwords.words('english'))\n",
    "    filtered_sentence = [word for word in text.split(\" \") if not word in stop_words]\n",
    "    return ' '.join(filtered_sentence)\n",
    "    #return text"
   ]
  },
  {
   "cell_type": "code",
   "execution_count": 77,
   "metadata": {},
   "outputs": [
    {
     "data": {
      "text/plain": [
       "'Ok lar... Joking wif u oni...'"
      ]
     },
     "execution_count": 77,
     "metadata": {},
     "output_type": "execute_result"
    }
   ],
   "source": [
    "df['message'][1]"
   ]
  },
  {
   "cell_type": "code",
   "execution_count": 78,
   "metadata": {},
   "outputs": [
    {
     "data": {
      "text/plain": [
       "'ok lar joking wif u oni'"
      ]
     },
     "execution_count": 78,
     "metadata": {},
     "output_type": "execute_result"
    }
   ],
   "source": [
    "clean_text(df['message'][1])"
   ]
  },
  {
   "cell_type": "code",
   "execution_count": 79,
   "metadata": {},
   "outputs": [],
   "source": [
    "df['message'] = df['message'].apply(clean_text)"
   ]
  },
  {
   "cell_type": "code",
   "execution_count": 80,
   "metadata": {},
   "outputs": [
    {
     "data": {
      "text/html": [
       "<div>\n",
       "<style scoped>\n",
       "    .dataframe tbody tr th:only-of-type {\n",
       "        vertical-align: middle;\n",
       "    }\n",
       "\n",
       "    .dataframe tbody tr th {\n",
       "        vertical-align: top;\n",
       "    }\n",
       "\n",
       "    .dataframe thead th {\n",
       "        text-align: right;\n",
       "    }\n",
       "</style>\n",
       "<table border=\"1\" class=\"dataframe\">\n",
       "  <thead>\n",
       "    <tr style=\"text-align: right;\">\n",
       "      <th></th>\n",
       "      <th>spam</th>\n",
       "      <th>message</th>\n",
       "    </tr>\n",
       "  </thead>\n",
       "  <tbody>\n",
       "    <tr>\n",
       "      <th>1064</th>\n",
       "      <td>0</td>\n",
       "      <td>thats fine ill bitch later</td>\n",
       "    </tr>\n",
       "    <tr>\n",
       "      <th>3278</th>\n",
       "      <td>0</td>\n",
       "      <td>solve case man found murdered ltdecimalgt ltgt...</td>\n",
       "    </tr>\n",
       "    <tr>\n",
       "      <th>605</th>\n",
       "      <td>0</td>\n",
       "      <td>take care n get well soon</td>\n",
       "    </tr>\n",
       "  </tbody>\n",
       "</table>\n",
       "</div>"
      ],
      "text/plain": [
       "      spam                                            message\n",
       "1064     0                         thats fine ill bitch later\n",
       "3278     0  solve case man found murdered ltdecimalgt ltgt...\n",
       "605      0                          take care n get well soon"
      ]
     },
     "execution_count": 80,
     "metadata": {},
     "output_type": "execute_result"
    }
   ],
   "source": [
    "df.sample(3)"
   ]
  },
  {
   "cell_type": "code",
   "execution_count": 81,
   "metadata": {},
   "outputs": [
    {
     "name": "stdout",
     "output_type": "stream",
     "text": [
      "Spam letters: 13.41%, Normal letters 86.59%\n"
     ]
    }
   ],
   "source": [
    "counts = df['spam'].value_counts()\n",
    "spam_perc = round((counts[1] / df.shape[0]) * 100, 2)\n",
    "print(f'Spam letters: {spam_perc}%, Normal letters {abs(100 - spam_perc)}%')"
   ]
  },
  {
   "cell_type": "code",
   "execution_count": 82,
   "metadata": {},
   "outputs": [
    {
     "data": {
      "text/plain": [
       "spam\n",
       "0    4825\n",
       "1     747\n",
       "Name: count, dtype: int64"
      ]
     },
     "execution_count": 82,
     "metadata": {},
     "output_type": "execute_result"
    }
   ],
   "source": [
    "counts"
   ]
  },
  {
   "cell_type": "markdown",
   "metadata": {},
   "source": [
    "#### Делаю кол-во спам писем == не спаму (747 спам писем)"
   ]
  },
  {
   "cell_type": "code",
   "execution_count": 83,
   "metadata": {},
   "outputs": [
    {
     "name": "stdout",
     "output_type": "stream",
     "text": [
      "spam\n",
      "0    747\n",
      "1    747\n",
      "Name: count, dtype: int64\n"
     ]
    }
   ],
   "source": [
    "non_spam_sampled = df[df['spam'] == 0].sample(n=747, replace=False)\n",
    "balanced_df = pd.concat([non_spam_sampled, df[df['spam'] == 1]])\n",
    "balanced_df = balanced_df.sample(frac=1).reset_index(drop=True)\n",
    "print(balanced_df['spam'].value_counts())"
   ]
  },
  {
   "cell_type": "code",
   "execution_count": 84,
   "metadata": {},
   "outputs": [],
   "source": [
    "#df = df.sample(frac=1) # Несбалансированная база\n",
    "df = balanced_df.sample(frac=1) # Сбалансированная база спам == не спам\n",
    "valid_size = 1000 # Размер валидационной выборки\n",
    "x_train = df[0:-valid_size]\n",
    "x_valid = df[-valid_size:df.shape[0]]"
   ]
  },
  {
   "cell_type": "code",
   "execution_count": 85,
   "metadata": {},
   "outputs": [],
   "source": [
    "spam_prob = {}\n",
    "non_spam_prob = {}\n",
    "total_word_count = 0\n",
    "\n",
    "def calc_word_probs(dtfr):\n",
    "    global spam_prob, non_spam_prob, total_word_count\n",
    "    \n",
    "    spam: pd.DataFrame = dtfr[dtfr['spam'] == 1]\n",
    "    non_spam: pd.DataFrame = dtfr[dtfr['spam'] == 0]\n",
    "    \n",
    "    spam_word_count = 0\n",
    "    non_spam_word_count = 0\n",
    "\n",
    "    # Count occurrences in spam\n",
    "    for _, row in spam.iterrows():\n",
    "        for word in row['message'].split():\n",
    "            if word == '': continue\n",
    "            spam_prob[word] = spam_prob.get(word, {'cnt': 0, 'val': 0})\n",
    "            spam_prob[word]['cnt'] += 1\n",
    "            spam_word_count += 1\n",
    "\n",
    "    # Count occurrences in non-spam\n",
    "    for _, row in non_spam.iterrows():\n",
    "        for word in row['message'].split():\n",
    "            if word == '': continue\n",
    "            non_spam_prob[word] = non_spam_prob.get(word, {'cnt': 0, 'val': 0})\n",
    "            non_spam_prob[word]['cnt'] += 1\n",
    "            non_spam_word_count += 1\n",
    "\n",
    "    total_word_count = spam_word_count + non_spam_word_count\n",
    "\n",
    "    # Apply smoothing and calculate probabilities\n",
    "    all_words = set(spam_prob.keys()).union(set(non_spam_prob.keys()))\n",
    "    for word in all_words:\n",
    "        if word not in spam_prob:\n",
    "            spam_prob[word] = {'cnt': 0, 'val': 0}\n",
    "        if word not in non_spam_prob:\n",
    "            non_spam_prob[word] = {'cnt': 0, 'val': 0}\n",
    "\n",
    "        # Apply Laplace smoothing\n",
    "        spam_prob[word]['val'] = (spam_prob[word]['cnt'] + 1) / (spam_word_count + len(all_words))\n",
    "        non_spam_prob[word]['val'] = (non_spam_prob[word]['cnt'] + 1) / (non_spam_word_count + len(all_words))\n",
    "calc_word_probs(x_train)"
   ]
  },
  {
   "cell_type": "code",
   "execution_count": 86,
   "metadata": {},
   "outputs": [],
   "source": [
    "def print_top_10(table: dict):\n",
    "    item_list = [(word, data) for word, data in table.items()]\n",
    "    sorted_spam_prob = sorted(item_list, key=lambda x: x[1]['val'], reverse=True)\n",
    "    top_10_spam_words = sorted_spam_prob[:10]\n",
    "\n",
    "    for word, data in top_10_spam_words:\n",
    "        print(f\"Word: '{word}' Count: {data['cnt']}, Value: {data['val']}\")"
   ]
  },
  {
   "cell_type": "code",
   "execution_count": 87,
   "metadata": {},
   "outputs": [
    {
     "name": "stdout",
     "output_type": "stream",
     "text": [
      "Word: 'call' Count: 133, Value: 0.020389531345100426\n",
      "Word: 'free' Count: 79, Value: 0.012172854534388313\n",
      "Word: '2' Count: 53, Value: 0.008216676810712111\n",
      "Word: 'ur' Count: 49, Value: 0.007608034083992696\n",
      "Word: 'mobile' Count: 48, Value: 0.007455873402312843\n",
      "Word: 'text' Count: 45, Value: 0.00699939135727328\n",
      "Word: 'txt' Count: 44, Value: 0.006847230675593427\n",
      "Word: '4' Count: 44, Value: 0.006847230675593427\n",
      "Word: 'u' Count: 40, Value: 0.006238587948874011\n",
      "Word: 'reply' Count: 34, Value: 0.0053256238587948874\n"
     ]
    }
   ],
   "source": [
    "print_top_10(spam_prob)"
   ]
  },
  {
   "cell_type": "code",
   "execution_count": 88,
   "metadata": {},
   "outputs": [
    {
     "name": "stdout",
     "output_type": "stream",
     "text": [
      "Word: 'u' Count: 43, Value: 0.010392064241851677\n",
      "Word: 'im' Count: 28, Value: 0.00684931506849315\n",
      "Word: 'dont' Count: 15, Value: 0.003778932451582428\n",
      "Word: 'know' Count: 15, Value: 0.003778932451582428\n",
      "Word: 'come' Count: 14, Value: 0.0035427491733585263\n",
      "Word: 'ok' Count: 14, Value: 0.0035427491733585263\n",
      "Word: 'get' Count: 14, Value: 0.0035427491733585263\n",
      "Word: 'call' Count: 14, Value: 0.0035427491733585263\n",
      "Word: 'want' Count: 13, Value: 0.0033065658951346244\n",
      "Word: 'go' Count: 11, Value: 0.002834199338686821\n"
     ]
    }
   ],
   "source": [
    "print_top_10(non_spam_prob)"
   ]
  },
  {
   "cell_type": "markdown",
   "metadata": {},
   "source": [
    "#### Вычисляю вероятность спама для 1 слова"
   ]
  },
  {
   "cell_type": "code",
   "execution_count": 89,
   "metadata": {},
   "outputs": [
    {
     "data": {
      "text/plain": [
       "0.012172854534388313"
      ]
     },
     "execution_count": 89,
     "metadata": {},
     "output_type": "execute_result"
    }
   ],
   "source": [
    "test_word = \"free\"\n",
    "P_SPAM = spam_prob[test_word]['val']\n",
    "P_NOT_SPAM = (1 - spam_prob[test_word]['val'])\n",
    "\n",
    "P_S = P_SPAM/(P_NOT_SPAM + P_SPAM)\n",
    "P_S"
   ]
  },
  {
   "cell_type": "markdown",
   "metadata": {},
   "source": [
    "#### Вычисление вероятности спамовости предложения по формуле из лекции"
   ]
  },
  {
   "cell_type": "code",
   "execution_count": 90,
   "metadata": {},
   "outputs": [],
   "source": [
    "def bayes_calc(sentence: str):\n",
    "    clean_sent = clean_text(sentence)\n",
    "    p_spam = 1 # произведение вероятностей спама слова F_i\n",
    "    p_non_spam = 1 # произведение вероятностей не спама слова F_i\n",
    "    p_word_given_spam = 0.5 # prior probability of spam\n",
    "    p_word_given_non_spam = 0.5 # prior probability of non-spam\n",
    "    \n",
    "    for word in clean_sent.split():\n",
    "        if word == '': continue\n",
    "        \n",
    "        if word in spam_prob:\n",
    "            p_word_given_spam = spam_prob[word]['val']\n",
    "        else:\n",
    "            # Apply smoothing for unseen words\n",
    "            p_word_given_spam = 1 / (sum(spam_prob[word]['cnt'] for word in spam_prob) + len(spam_prob))\n",
    "        \n",
    "        if word in non_spam_prob:\n",
    "            p_word_given_non_spam = non_spam_prob[word]['val']\n",
    "        else:\n",
    "            # Apply smoothing for unseen words\n",
    "            p_word_given_non_spam = 1 / (sum(non_spam_prob[word]['cnt'] for word in non_spam_prob) + len(non_spam_prob))\n",
    "\n",
    "        p_spam *= p_word_given_spam\n",
    "        p_non_spam *= p_word_given_non_spam\n",
    "\n",
    "    # Calculate the posterior probability P(Spam|Sentence)\n",
    "    p_spam_sentence = p_spam\n",
    "    p_non_spam_sentence = p_non_spam\n",
    "    \n",
    "    return p_spam_sentence / (p_spam_sentence + p_non_spam_sentence)\n"
   ]
  },
  {
   "cell_type": "code",
   "execution_count": 91,
   "metadata": {},
   "outputs": [
    {
     "data": {
      "text/plain": [
       "0.012134990138148912"
      ]
     },
     "execution_count": 91,
     "metadata": {},
     "output_type": "execute_result"
    }
   ],
   "source": [
    "bayes_calc(\"Good day everyone, the meeting is going to be today at 5 am\") "
   ]
  },
  {
   "cell_type": "code",
   "execution_count": 92,
   "metadata": {},
   "outputs": [
    {
     "data": {
      "text/plain": [
       "0.6405115436929815"
      ]
     },
     "execution_count": 92,
     "metadata": {},
     "output_type": "execute_result"
    }
   ],
   "source": [
    "bayes_calc(\"get free money get credit from out company\")"
   ]
  },
  {
   "cell_type": "code",
   "execution_count": 93,
   "metadata": {},
   "outputs": [],
   "source": [
    "threshold = 0.5\n",
    "def is_spam(sent):\n",
    "    return 1 if bayes_calc(sent) > threshold else 0"
   ]
  },
  {
   "cell_type": "code",
   "execution_count": 94,
   "metadata": {},
   "outputs": [
    {
     "data": {
      "text/plain": [
       "1"
      ]
     },
     "execution_count": 94,
     "metadata": {},
     "output_type": "execute_result"
    }
   ],
   "source": [
    "is_spam(\"get free money get credit from out company\")"
   ]
  },
  {
   "cell_type": "code",
   "execution_count": 95,
   "metadata": {},
   "outputs": [
    {
     "data": {
      "text/plain": [
       "0"
      ]
     },
     "execution_count": 95,
     "metadata": {},
     "output_type": "execute_result"
    }
   ],
   "source": [
    "is_spam(\"Good day everyone, the meeting is going to be today at 5 am\")"
   ]
  },
  {
   "cell_type": "code",
   "execution_count": 96,
   "metadata": {},
   "outputs": [
    {
     "data": {
      "text/plain": [
       "1"
      ]
     },
     "execution_count": 96,
     "metadata": {},
     "output_type": "execute_result"
    }
   ],
   "source": [
    "is_spam(\"call free to ur txt\") # Топ спам слова"
   ]
  },
  {
   "cell_type": "code",
   "execution_count": 97,
   "metadata": {},
   "outputs": [],
   "source": [
    "right = 0 \n",
    "error = 0\n",
    "valid_size = len(x_valid)\n",
    "for _, row in x_valid.iterrows():\n",
    "    y_pred = is_spam(row['message'])\n",
    "    y_true = row['spam'] \n",
    "    right += y_true == y_pred\n",
    "    error += y_true != y_pred"
   ]
  },
  {
   "cell_type": "code",
   "execution_count": 98,
   "metadata": {},
   "outputs": [
    {
     "data": {
      "text/plain": [
       "930"
      ]
     },
     "execution_count": 98,
     "metadata": {},
     "output_type": "execute_result"
    }
   ],
   "source": [
    "right"
   ]
  },
  {
   "cell_type": "code",
   "execution_count": 99,
   "metadata": {},
   "outputs": [
    {
     "data": {
      "text/plain": [
       "70"
      ]
     },
     "execution_count": 99,
     "metadata": {},
     "output_type": "execute_result"
    }
   ],
   "source": [
    "error"
   ]
  },
  {
   "cell_type": "code",
   "execution_count": 100,
   "metadata": {},
   "outputs": [
    {
     "data": {
      "text/plain": [
       "1000"
      ]
     },
     "execution_count": 100,
     "metadata": {},
     "output_type": "execute_result"
    }
   ],
   "source": [
    "valid_size"
   ]
  },
  {
   "cell_type": "markdown",
   "metadata": {},
   "source": [
    "#### Тестирование и метрики"
   ]
  },
  {
   "cell_type": "code",
   "execution_count": 101,
   "metadata": {},
   "outputs": [
    {
     "name": "stdout",
     "output_type": "stream",
     "text": [
      "Correct: 93.0% Errors: 7.0%\n"
     ]
    }
   ],
   "source": [
    "print(f\"Correct: {round(right/valid_size*100, 2)}% Errors: {round(error/valid_size*100, 2)}%\")"
   ]
  },
  {
   "cell_type": "code",
   "execution_count": 102,
   "metadata": {},
   "outputs": [
    {
     "data": {
      "text/plain": [
       "0.9937376183880186"
      ]
     },
     "execution_count": 102,
     "metadata": {},
     "output_type": "execute_result"
    }
   ],
   "source": [
    "bayes_calc(\"free call get credit\")"
   ]
  },
  {
   "cell_type": "code",
   "execution_count": 103,
   "metadata": {},
   "outputs": [
    {
     "data": {
      "text/plain": [
       "0.0030734570819407514"
      ]
     },
     "execution_count": 103,
     "metadata": {},
     "output_type": "execute_result"
    }
   ],
   "source": [
    "bayes_calc(\"hey bro how are you? how is your day? Meeting today\")"
   ]
  },
  {
   "cell_type": "code",
   "execution_count": 104,
   "metadata": {},
   "outputs": [
    {
     "data": {
      "text/plain": [
       "0.13956601490372264"
      ]
     },
     "execution_count": 104,
     "metadata": {},
     "output_type": "execute_result"
    }
   ],
   "source": [
    "bayes_calc(\"Hi, the coffe is free today in our school cafeteria\")"
   ]
  },
  {
   "cell_type": "code",
   "execution_count": 110,
   "metadata": {},
   "outputs": [
    {
     "data": {
      "image/png": "[encoded data removed]",
      "text/plain": [
       "<Figure size 640x480 with 1 Axes>"
      ]
     },
     "metadata": {},
     "output_type": "display_data"
    },
    {
     "data": {
      "image/png": "[encoded data removed]",
      "text/plain": [
       "<Figure size 640x480 with 2 Axes>"
      ]
     },
     "metadata": {},
     "output_type": "display_data"
    }
   ],
   "source": [
    "import matplotlib.pyplot as plt\n",
    "from sklearn.metrics import accuracy_score, precision_score, recall_score, f1_score, roc_curve, auc, confusion_matrix, ConfusionMatrixDisplay\n",
    "\n",
    "y_true = []\n",
    "y_pred = []\n",
    "\n",
    "# Проходим по датафрейму и делаем предсказания\n",
    "for _, row in df.iterrows():\n",
    "    y_pred.append(is_spam(row['message']))\n",
    "    y_true.append(row['spam'])\n",
    "\n",
    "# Преобразование списков в numpy массивы\n",
    "y_true = np.array(y_true)\n",
    "y_pred = np.array(y_pred)\n",
    "\n",
    "# Расчет метрик\n",
    "accuracy = accuracy_score(y_true, y_pred)\n",
    "precision = precision_score(y_true, y_pred)\n",
    "recall = recall_score(y_true, y_pred)\n",
    "f1 = f1_score(y_true, y_pred)\n",
    "\n",
    "# Построение ROC-кривой\n",
    "fpr, tpr, thresholds = roc_curve(y_true, [bayes_calc(msg) for msg in df['message']])\n",
    "roc_auc = auc(fpr, tpr)\n",
    "\n",
    "plt.figure()\n",
    "plt.plot(fpr, tpr, color='darkorange', lw=2, label=f'ROC curve (area = {roc_auc:.2f})')\n",
    "plt.plot([0, 1], [0, 1], color='navy', lw=2, linestyle='--')\n",
    "plt.xlim([0.0, 1.0])\n",
    "plt.ylim([0.0, 1.05])\n",
    "plt.xlabel('False Positive Rate')\n",
    "plt.ylabel('True Positive Rate')\n",
    "plt.title('Receiver Operating Characteristic (ROC)')\n",
    "plt.legend(loc='lower right')\n",
    "plt.show()\n",
    "\n",
    "# Построение матрицы неточностей\n",
    "cm = confusion_matrix(y_true, y_pred)\n",
    "disp = ConfusionMatrixDisplay(confusion_matrix=cm, display_labels=['Not Spam', 'Spam'])\n",
    "disp.plot(cmap=plt.cm.Blues)\n",
    "plt.title('Confusion Matrix')\n",
    "plt.show()"
   ]
  }
 ],
 "metadata": {
  "kernelspec": {
   "display_name": "Python 3",
   "language": "python",
   "name": "python3"
  },
  "language_info": {
   "codemirror_mode": {
    "name": "ipython",
    "version": 3
   },
   "file_extension": ".py",
   "mimetype": "text/x-python",
   "name": "python",
   "nbconvert_exporter": "python",
   "pygments_lexer": "ipython3",
   "version": "3.9.13"
  }
 },
 "nbformat": 4,
 "nbformat_minor": 2
}
