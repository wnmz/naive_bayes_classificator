{
 "cells": [
  {
   "cell_type": "code",
   "execution_count": 234,
   "metadata": {},
   "outputs": [
    {
     "name": "stderr",
     "output_type": "stream",
     "text": [
      "[nltk_data] Downloading package stopwords to\n",
      "[nltk_data]     C:\\Users\\wnm\\AppData\\Roaming\\nltk_data...\n",
      "[nltk_data]   Package stopwords is already up-to-date!\n"
     ]
    },
    {
     "data": {
      "text/plain": [
       "True"
      ]
     },
     "execution_count": 234,
     "metadata": {},
     "output_type": "execute_result"
    }
   ],
   "source": [
    "import pandas as pd\n",
    "import numpy as np\n",
    "import re\n",
    "from nltk.corpus import stopwords\n",
    "import nltk\n",
    "nltk.download('stopwords')"
   ]
  },
  {
   "cell_type": "code",
   "execution_count": 235,
   "metadata": {},
   "outputs": [
    {
     "data": {
      "text/html": [
       "<div>\n",
       "<style scoped>\n",
       "    .dataframe tbody tr th:only-of-type {\n",
       "        vertical-align: middle;\n",
       "    }\n",
       "\n",
       "    .dataframe tbody tr th {\n",
       "        vertical-align: top;\n",
       "    }\n",
       "\n",
       "    .dataframe thead th {\n",
       "        text-align: right;\n",
       "    }\n",
       "</style>\n",
       "<table border=\"1\" class=\"dataframe\">\n",
       "  <thead>\n",
       "    <tr style=\"text-align: right;\">\n",
       "      <th></th>\n",
       "      <th>Message ID</th>\n",
       "      <th>Subject</th>\n",
       "      <th>Message</th>\n",
       "      <th>Spam/Ham</th>\n",
       "      <th>Date</th>\n",
       "    </tr>\n",
       "  </thead>\n",
       "  <tbody>\n",
       "    <tr>\n",
       "      <th>10659</th>\n",
       "      <td>10659</td>\n",
       "      <td>all graphics software available , cheap oem ve...</td>\n",
       "      <td>good morning ,\\nwe we offer latest oem package...</td>\n",
       "      <td>spam</td>\n",
       "      <td>2005-07-13</td>\n",
       "    </tr>\n",
       "    <tr>\n",
       "      <th>6763</th>\n",
       "      <td>6763</td>\n",
       "      <td>risk bucketing for p / l</td>\n",
       "      <td>ken and greg ,\\nwhat we have been doing is abs...</td>\n",
       "      <td>ham</td>\n",
       "      <td>2000-08-10</td>\n",
       "    </tr>\n",
       "    <tr>\n",
       "      <th>25072</th>\n",
       "      <td>25072</td>\n",
       "      <td>herald community herald - article on pc ' s</td>\n",
       "      <td>microsoft , adobe , macromedia and many more\\n...</td>\n",
       "      <td>spam</td>\n",
       "      <td>2005-05-25</td>\n",
       "    </tr>\n",
       "  </tbody>\n",
       "</table>\n",
       "</div>"
      ],
      "text/plain": [
       "       Message ID                                            Subject  \\\n",
       "10659       10659  all graphics software available , cheap oem ve...   \n",
       "6763         6763                           risk bucketing for p / l   \n",
       "25072       25072        herald community herald - article on pc ' s   \n",
       "\n",
       "                                                 Message Spam/Ham        Date  \n",
       "10659  good morning ,\\nwe we offer latest oem package...     spam  2005-07-13  \n",
       "6763   ken and greg ,\\nwhat we have been doing is abs...      ham  2000-08-10  \n",
       "25072  microsoft , adobe , macromedia and many more\\n...     spam  2005-05-25  "
      ]
     },
     "execution_count": 235,
     "metadata": {},
     "output_type": "execute_result"
    }
   ],
   "source": [
    "df = pd.read_csv('base.csv').dropna()\n",
    "df.sample(3)"
   ]
  },
  {
   "cell_type": "code",
   "execution_count": 236,
   "metadata": {},
   "outputs": [],
   "source": [
    "df['Message'] = df['Subject'] +' '+ df['Message']"
   ]
  },
  {
   "cell_type": "code",
   "execution_count": 237,
   "metadata": {},
   "outputs": [],
   "source": [
    "df['Spam/Ham'] = np.where(df['Spam/Ham'] == 'spam', 1, 0)"
   ]
  },
  {
   "cell_type": "code",
   "execution_count": 238,
   "metadata": {},
   "outputs": [
    {
     "data": {
      "text/html": [
       "<div>\n",
       "<style scoped>\n",
       "    .dataframe tbody tr th:only-of-type {\n",
       "        vertical-align: middle;\n",
       "    }\n",
       "\n",
       "    .dataframe tbody tr th {\n",
       "        vertical-align: top;\n",
       "    }\n",
       "\n",
       "    .dataframe thead th {\n",
       "        text-align: right;\n",
       "    }\n",
       "</style>\n",
       "<table border=\"1\" class=\"dataframe\">\n",
       "  <thead>\n",
       "    <tr style=\"text-align: right;\">\n",
       "      <th></th>\n",
       "      <th>Message ID</th>\n",
       "      <th>Subject</th>\n",
       "      <th>Message</th>\n",
       "      <th>Spam/Ham</th>\n",
       "      <th>Date</th>\n",
       "    </tr>\n",
       "  </thead>\n",
       "  <tbody>\n",
       "    <tr>\n",
       "      <th>19693</th>\n",
       "      <td>19693</td>\n",
       "      <td>re : beautiful mohter to date with you</td>\n",
       "      <td>re : beautiful mohter to date with you ellolll...</td>\n",
       "      <td>1</td>\n",
       "      <td>2004-08-29</td>\n",
       "    </tr>\n",
       "    <tr>\n",
       "      <th>9511</th>\n",
       "      <td>9511</td>\n",
       "      <td>valuation methodology</td>\n",
       "      <td>valuation methodology we ' ve had a request fr...</td>\n",
       "      <td>0</td>\n",
       "      <td>2001-05-11</td>\n",
       "    </tr>\n",
       "    <tr>\n",
       "      <th>361</th>\n",
       "      <td>361</td>\n",
       "      <td>half day of vac on 2 / 28</td>\n",
       "      <td>half day of vac on 2 / 28 12 . 20 dentist appt...</td>\n",
       "      <td>0</td>\n",
       "      <td>2000-02-25</td>\n",
       "    </tr>\n",
       "  </tbody>\n",
       "</table>\n",
       "</div>"
      ],
      "text/plain": [
       "       Message ID                                 Subject  \\\n",
       "19693       19693  re : beautiful mohter to date with you   \n",
       "9511         9511                   valuation methodology   \n",
       "361           361               half day of vac on 2 / 28   \n",
       "\n",
       "                                                 Message  Spam/Ham        Date  \n",
       "19693  re : beautiful mohter to date with you ellolll...         1  2004-08-29  \n",
       "9511   valuation methodology we ' ve had a request fr...         0  2001-05-11  \n",
       "361    half day of vac on 2 / 28 12 . 20 dentist appt...         0  2000-02-25  "
      ]
     },
     "execution_count": 238,
     "metadata": {},
     "output_type": "execute_result"
    }
   ],
   "source": [
    "df.sample(3)"
   ]
  },
  {
   "cell_type": "code",
   "execution_count": 239,
   "metadata": {},
   "outputs": [],
   "source": [
    "df = df.drop(['Subject','Message ID', 'Date'], axis=1)"
   ]
  },
  {
   "cell_type": "code",
   "execution_count": 240,
   "metadata": {},
   "outputs": [],
   "source": [
    "def clean_text(text: str):\n",
    "    text = text.lower()\n",
    "    # Удаление спец символов\n",
    "    text = re.sub(r'[^a-zA-Z0-9\\s]', '', text)\n",
    "    # Удаление множественных пробелов\n",
    "    text = re.sub(r'\\s+', ' ', text)\n",
    "    text = text.replace('\\n', '')\n",
    "    # Фильтрация стоп слов\n",
    "    stop_words = set(stopwords.words('english'))\n",
    "    filtered_sentence = [word for word in text.split(\" \") if not word in stop_words]\n",
    "    return ' '.join(filtered_sentence)"
   ]
  },
  {
   "cell_type": "code",
   "execution_count": 241,
   "metadata": {},
   "outputs": [
    {
     "data": {
      "text/plain": [
       "'vastar resources inc gary production high island larger block 1 2 commenced saturday 2 00 p 6 500 gross carlos expects 9 500 10 000 gross tomorrow vastar owns 68 gross production george x 3 6992 forwarded george weissman hou ect 12 13 99 10 16 daren j farmer 12 10 99 10 38 carlos j rodriguez hou ect ect cc george weissman hou ect ect melissa graves hou ect ect subject vastar resources inc carlos please call linda get everything set going estimate 4 500 coming tomorrow 2 000 increase following day based conversations bill fischer bmar forwarded daren j farmer hou ect 12 10 99 10 34 enron north america corp george weissman 12 10 99 10 00 daren j farmer hou ect ect cc gary bryan hou ect ect melissa graves hou ect ect subject vastar resources inc darren attached appears nomination vastar resources inc high island larger block 1 2 previously erroneously referred 1 well vastar expects well commence production sometime tomorrow told linda harris get telephone number gas control provide notification turn tomorrow linda numbers record 281 584 3359 voice 713 312 1689 fax would please see someone contacts linda advises submit future nominations via e mail fax voice thanks george x 3 6992 forwarded george weissman hou ect 12 10 99 09 44 linda harris 12 10 99 09 38 43 george weissman hou ect ect cc subject hi 1 2 effective 12 11 99 mscf min ftp time 4 500 9 925 24 hours 6 000 9 908 24 hours 8 000 9 878 24 hours 10 000 9 840 24 hours 12 000 9 793 24 hours 14 000 9 738 24 hours 16 000 9 674 24 hours 18 000 9 602 24 hours 20 000 9 521 24 hours 22 000 9 431 24 hours 24 000 9 332 24 hours 26 000 9 224 24 hours 28 000 9 108 24 hours 30 000 8 982 24 hours 32 000 8 847 24 hours 34 000 8 703 24 hours 36 000 8 549 24 hours '"
      ]
     },
     "execution_count": 241,
     "metadata": {},
     "output_type": "execute_result"
    }
   ],
   "source": [
    "clean_text(df['Message'][1])"
   ]
  },
  {
   "cell_type": "code",
   "execution_count": 242,
   "metadata": {},
   "outputs": [],
   "source": [
    "df['Message'] = df['Message'].apply(clean_text)"
   ]
  },
  {
   "cell_type": "code",
   "execution_count": 243,
   "metadata": {},
   "outputs": [
    {
     "data": {
      "text/html": [
       "<div>\n",
       "<style scoped>\n",
       "    .dataframe tbody tr th:only-of-type {\n",
       "        vertical-align: middle;\n",
       "    }\n",
       "\n",
       "    .dataframe tbody tr th {\n",
       "        vertical-align: top;\n",
       "    }\n",
       "\n",
       "    .dataframe thead th {\n",
       "        text-align: right;\n",
       "    }\n",
       "</style>\n",
       "<table border=\"1\" class=\"dataframe\">\n",
       "  <thead>\n",
       "    <tr style=\"text-align: right;\">\n",
       "      <th></th>\n",
       "      <th>Message</th>\n",
       "      <th>Spam/Ham</th>\n",
       "    </tr>\n",
       "  </thead>\n",
       "  <tbody>\n",
       "    <tr>\n",
       "      <th>30757</th>\n",
       "      <td>fw w p n allied retail trade co ltd message al...</td>\n",
       "      <td>1</td>\n",
       "    </tr>\n",
       "    <tr>\n",
       "      <th>24031</th>\n",
       "      <td>finally remembered sally tiki person according...</td>\n",
       "      <td>0</td>\n",
       "    </tr>\n",
       "    <tr>\n",
       "      <th>20373</th>\n",
       "      <td>pharmaceauticals filled licensed rx us two zen...</td>\n",
       "      <td>1</td>\n",
       "    </tr>\n",
       "  </tbody>\n",
       "</table>\n",
       "</div>"
      ],
      "text/plain": [
       "                                                 Message  Spam/Ham\n",
       "30757  fw w p n allied retail trade co ltd message al...         1\n",
       "24031  finally remembered sally tiki person according...         0\n",
       "20373  pharmaceauticals filled licensed rx us two zen...         1"
      ]
     },
     "execution_count": 243,
     "metadata": {},
     "output_type": "execute_result"
    }
   ],
   "source": [
    "df.sample(3)"
   ]
  },
  {
   "cell_type": "code",
   "execution_count": 244,
   "metadata": {},
   "outputs": [
    {
     "name": "stdout",
     "output_type": "stream",
     "text": [
      "Spam letters: 50.18%, Normal letters 49.18\n"
     ]
    }
   ],
   "source": [
    "counts = df['Spam/Ham'].value_counts()\n",
    "spam_perc = round((counts[1] / df.shape[0]) * 100, 2)\n",
    "print(f'Spam letters: {spam_perc}%, Normal letters {abs(1 - spam_perc)}')"
   ]
  },
  {
   "cell_type": "code",
   "execution_count": 245,
   "metadata": {},
   "outputs": [],
   "source": [
    "df = df.sample(frac=1)\n",
    "valid_size = 1000\n",
    "x_train = df[0:-valid_size]\n",
    "x_valid = df[-valid_size:df.shape[0]]"
   ]
  },
  {
   "cell_type": "code",
   "execution_count": 246,
   "metadata": {},
   "outputs": [],
   "source": [
    "spam_prob: dict = {}\n",
    "non_spam_prob: dict = {}\n",
    "def calc_word_probs(dtfr):\n",
    "    spam: pd.DataFrame = dtfr[dtfr['Spam/Ham'] == 1]\n",
    "    non_spam : pd.DataFrame =  dtfr[dtfr['Spam/Ham'] == 0]\n",
    "    spam_word_cnt = 0\n",
    "    non_spam_word_cnt = 0\n",
    "    for _, row in spam.iterrows():\n",
    "        for word in row['Message'].split(' '):\n",
    "            spam_word_cnt += 1\n",
    "            if word in spam_prob:\n",
    "                spam_prob[word]['cnt'] += 1\n",
    "            else:\n",
    "                spam_prob[word] = {'cnt': 1}\n",
    "\n",
    "    for _, row in non_spam.iterrows():\n",
    "        for word in row['Message'].split(' '):\n",
    "            non_spam_word_cnt += 1\n",
    "            if word in non_spam_prob:\n",
    "                non_spam_prob[word]['cnt'] += 1\n",
    "            else:\n",
    "                non_spam_prob[word] = {'cnt': 1}\n",
    "\n",
    "    for key in spam_prob.keys():\n",
    "        spam_prob[key][\"val\"] = spam_prob[key]['cnt'] / spam_word_cnt\n",
    "    for key in non_spam_prob.keys():\n",
    "        non_spam_prob[key][\"val\"] = non_spam_prob[key]['cnt'] / non_spam_word_cnt\n",
    "calc_word_probs(x_train)"
   ]
  },
  {
   "cell_type": "code",
   "execution_count": 251,
   "metadata": {},
   "outputs": [],
   "source": [
    "def print_top_10(table: dict):\n",
    "    item_list = [(word, data) for word, data in table.items()]\n",
    "    sorted_spam_prob = sorted(item_list, key=lambda x: x[1]['val'], reverse=True)\n",
    "    top_10_spam_words = sorted_spam_prob[:10]\n",
    "\n",
    "    for word, data in top_10_spam_words:\n",
    "        print(f\"Word: '{word}' Count: {data['cnt']}, Value: {data['val']}\")"
   ]
  },
  {
   "cell_type": "code",
   "execution_count": 252,
   "metadata": {},
   "outputs": [
    {
     "name": "stdout",
     "output_type": "stream",
     "text": [
      "Word: 'enron' Count: 59167, Value: 0.020837126549437066\n",
      "Word: 'ect' Count: 34184, Value: 0.012038743454391074\n",
      "Word: 'hou' Count: 16448, Value: 0.005792571154277568\n",
      "Word: '2001' Count: 15153, Value: 0.005336504784822956\n",
      "Word: '1' Count: 13304, Value: 0.004685333574690464\n",
      "Word: '2000' Count: 13232, Value: 0.004659976988898393\n",
      "Word: 'please' Count: 12614, Value: 0.004442332960849784\n",
      "Word: 'com' Count: 12187, Value: 0.0042919543201106955\n",
      "Word: 'would' Count: 12087, Value: 0.00425673683984393\n",
      "Word: 'subject' Count: 11732, Value: 0.004131714784896913\n"
     ]
    }
   ],
   "source": [
    "print_top_10(non_spam_prob)"
   ]
  },
  {
   "cell_type": "code",
   "execution_count": 253,
   "metadata": {},
   "outputs": [
    {
     "name": "stdout",
     "output_type": "stream",
     "text": [
      "Word: '' Count: 12675, Value: 0.005630698166591368\n",
      "Word: 'com' Count: 11157, Value: 0.004956347096225633\n",
      "Word: 'company' Count: 10784, Value: 0.004790646866155528\n",
      "Word: '1' Count: 9647, Value: 0.004285549918193841\n",
      "Word: 'e' Count: 8645, Value: 0.0038404249033674462\n",
      "Word: '2' Count: 8538, Value: 0.003792891593400955\n",
      "Word: 'http' Count: 8420, Value: 0.003740471681475292\n",
      "Word: '3' Count: 7918, Value: 0.0035174649375203514\n",
      "Word: 'email' Count: 7781, Value: 0.003456604531301573\n",
      "Word: 'information' Count: 7512, Value: 0.0033371049015727306\n"
     ]
    }
   ],
   "source": [
    "print_top_10(spam_prob)"
   ]
  },
  {
   "cell_type": "code",
   "execution_count": null,
   "metadata": {},
   "outputs": [],
   "source": []
  }
 ],
 "metadata": {
  "kernelspec": {
   "display_name": "Python 3",
   "language": "python",
   "name": "python3"
  },
  "language_info": {
   "codemirror_mode": {
    "name": "ipython",
    "version": 3
   },
   "file_extension": ".py",
   "mimetype": "text/x-python",
   "name": "python",
   "nbconvert_exporter": "python",
   "pygments_lexer": "ipython3",
   "version": "3.9.13"
  }
 },
 "nbformat": 4,
 "nbformat_minor": 2
}
